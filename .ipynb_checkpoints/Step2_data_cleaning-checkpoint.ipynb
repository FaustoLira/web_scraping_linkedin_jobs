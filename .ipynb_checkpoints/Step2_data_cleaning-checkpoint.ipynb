{
 "cells": [
  {
   "cell_type": "markdown",
   "id": "a0251aad-c4f9-4f67-98c5-e5aa0da176b8",
   "metadata": {
    "tags": []
   },
   "source": [
    "# Exploratory data analysis and Clean the Data"
   ]
  },
  {
   "cell_type": "code",
   "execution_count": 1,
   "id": "9efb91b6-d5da-43c1-841c-e1ce43fe26d7",
   "metadata": {},
   "outputs": [],
   "source": [
    "# pacotes\n",
    "import pandas as pd\n",
    "import numpy as np\n",
    "import matplotlib.pyplot as plt\n",
    "%matplotlib inline\n",
    "import seaborn as sns\n",
    "# import plotly.express as px"
   ]
  },
  {
   "cell_type": "code",
   "execution_count": 2,
   "id": "be559700-e00c-4f5a-aeb7-8fb834801e76",
   "metadata": {},
   "outputs": [],
   "source": [
    "data = pd.read_csv('job_data.csv')"
   ]
  },
  {
   "cell_type": "code",
   "execution_count": 3,
   "id": "f02207cb-45d7-4951-b55a-1d4ef1feb1f8",
   "metadata": {},
   "outputs": [
    {
     "data": {
      "text/html": [
       "<div>\n",
       "<style scoped>\n",
       "    .dataframe tbody tr th:only-of-type {\n",
       "        vertical-align: middle;\n",
       "    }\n",
       "\n",
       "    .dataframe tbody tr th {\n",
       "        vertical-align: top;\n",
       "    }\n",
       "\n",
       "    .dataframe thead th {\n",
       "        text-align: right;\n",
       "    }\n",
       "</style>\n",
       "<table border=\"1\" class=\"dataframe\">\n",
       "  <thead>\n",
       "    <tr style=\"text-align: right;\">\n",
       "      <th></th>\n",
       "      <th>Date</th>\n",
       "      <th>Company</th>\n",
       "      <th>Job Title</th>\n",
       "      <th>Location</th>\n",
       "      <th>Description</th>\n",
       "      <th>Seniority</th>\n",
       "      <th>Type</th>\n",
       "      <th>Job Function</th>\n",
       "      <th>Industry</th>\n",
       "      <th>Link</th>\n",
       "    </tr>\n",
       "  </thead>\n",
       "  <tbody>\n",
       "    <tr>\n",
       "      <th>0</th>\n",
       "      <td>2022-02-11</td>\n",
       "      <td>Shopee</td>\n",
       "      <td>Analista de Dados</td>\n",
       "      <td>São Paulo, SP</td>\n",
       "      <td>About The Team\\n\\nAs equipes de Operação do Sh...</td>\n",
       "      <td>Pleno-sênior</td>\n",
       "      <td>Tempo integral</td>\n",
       "      <td>Tecnologia da informação</td>\n",
       "      <td>Publicação na Internet</td>\n",
       "      <td>https://br.linkedin.com/jobs/view/analista-de-...</td>\n",
       "    </tr>\n",
       "    <tr>\n",
       "      <th>1</th>\n",
       "      <td>2021-11-01</td>\n",
       "      <td>Itaú Unibanco</td>\n",
       "      <td>Analista de Dados</td>\n",
       "      <td>São Paulo, SP</td>\n",
       "      <td>Como é o ambiente de trabalho?\\n\\nO Que Nos Mo...</td>\n",
       "      <td>Não aplicável</td>\n",
       "      <td>Tempo integral</td>\n",
       "      <td>Tecnologia da informação</td>\n",
       "      <td>Serviços e consultoria de TI, Desenvolvimento ...</td>\n",
       "      <td>https://br.linkedin.com/jobs/view/analista-de-...</td>\n",
       "    </tr>\n",
       "    <tr>\n",
       "      <th>2</th>\n",
       "      <td>2022-02-03</td>\n",
       "      <td>Z1</td>\n",
       "      <td>Analista de Dados</td>\n",
       "      <td>Brasil</td>\n",
       "      <td>Se você sonha com a oportunidade de mostrar se...</td>\n",
       "      <td>Pleno-sênior</td>\n",
       "      <td>Tempo integral</td>\n",
       "      <td>Tecnologia da informação, Recursos humanos e E...</td>\n",
       "      <td>Serviços financeiros</td>\n",
       "      <td>https://br.linkedin.com/jobs/view/analista-de-...</td>\n",
       "    </tr>\n",
       "    <tr>\n",
       "      <th>3</th>\n",
       "      <td>2022-02-07</td>\n",
       "      <td>Pitzi</td>\n",
       "      <td>Analista de Dados Jr</td>\n",
       "      <td>Osasco, SP</td>\n",
       "      <td>Descrição da empresa\\n\\nFundada em 2012, a Pit...</td>\n",
       "      <td>Não aplicável</td>\n",
       "      <td>Tempo integral</td>\n",
       "      <td>Tecnologia da informação</td>\n",
       "      <td>Publicação na Internet</td>\n",
       "      <td>https://br.linkedin.com/jobs/view/analista-de-...</td>\n",
       "    </tr>\n",
       "    <tr>\n",
       "      <th>4</th>\n",
       "      <td>2022-01-21</td>\n",
       "      <td>PicPay</td>\n",
       "      <td>Analista de Dados | Super App</td>\n",
       "      <td>São Paulo, SP</td>\n",
       "      <td>JOB DESCRIPTION\\n\\nDirecionar um ou mais clien...</td>\n",
       "      <td>Assistente</td>\n",
       "      <td>Tempo integral</td>\n",
       "      <td>Tecnologia da informação</td>\n",
       "      <td>Serviços financeiros</td>\n",
       "      <td>https://br.linkedin.com/jobs/view/analista-de-...</td>\n",
       "    </tr>\n",
       "  </tbody>\n",
       "</table>\n",
       "</div>"
      ],
      "text/plain": [
       "         Date        Company                      Job Title       Location  \\\n",
       "0  2022-02-11         Shopee              Analista de Dados  São Paulo, SP   \n",
       "1  2021-11-01  Itaú Unibanco              Analista de Dados  São Paulo, SP   \n",
       "2  2022-02-03             Z1              Analista de Dados         Brasil   \n",
       "3  2022-02-07          Pitzi           Analista de Dados Jr     Osasco, SP   \n",
       "4  2022-01-21         PicPay  Analista de Dados | Super App  São Paulo, SP   \n",
       "\n",
       "                                         Description      Seniority  \\\n",
       "0  About The Team\\n\\nAs equipes de Operação do Sh...   Pleno-sênior   \n",
       "1  Como é o ambiente de trabalho?\\n\\nO Que Nos Mo...  Não aplicável   \n",
       "2  Se você sonha com a oportunidade de mostrar se...   Pleno-sênior   \n",
       "3  Descrição da empresa\\n\\nFundada em 2012, a Pit...  Não aplicável   \n",
       "4  JOB DESCRIPTION\\n\\nDirecionar um ou mais clien...     Assistente   \n",
       "\n",
       "             Type                                       Job Function  \\\n",
       "0  Tempo integral                           Tecnologia da informação   \n",
       "1  Tempo integral                           Tecnologia da informação   \n",
       "2  Tempo integral  Tecnologia da informação, Recursos humanos e E...   \n",
       "3  Tempo integral                           Tecnologia da informação   \n",
       "4  Tempo integral                           Tecnologia da informação   \n",
       "\n",
       "                                            Industry  \\\n",
       "0                             Publicação na Internet   \n",
       "1  Serviços e consultoria de TI, Desenvolvimento ...   \n",
       "2                               Serviços financeiros   \n",
       "3                             Publicação na Internet   \n",
       "4                               Serviços financeiros   \n",
       "\n",
       "                                                Link  \n",
       "0  https://br.linkedin.com/jobs/view/analista-de-...  \n",
       "1  https://br.linkedin.com/jobs/view/analista-de-...  \n",
       "2  https://br.linkedin.com/jobs/view/analista-de-...  \n",
       "3  https://br.linkedin.com/jobs/view/analista-de-...  \n",
       "4  https://br.linkedin.com/jobs/view/analista-de-...  "
      ]
     },
     "execution_count": 3,
     "metadata": {},
     "output_type": "execute_result"
    }
   ],
   "source": [
    "data.head()"
   ]
  },
  {
   "cell_type": "markdown",
   "id": "62db8691-9a1e-40d4-b205-af41abc3720b",
   "metadata": {},
   "source": [
    "## Selecting the columns needed for analysis\n",
    "\n",
    "The columns needed are: Date, Job Title, Location, Description and Seniority\t"
   ]
  },
  {
   "cell_type": "code",
   "execution_count": 4,
   "id": "00d08eab-86a6-4bfc-8c9b-157ac6a516d2",
   "metadata": {},
   "outputs": [],
   "source": [
    "# selecionando apenas as colunas de interesse\n",
    "columns = ['Date', 'Company', 'Job Title', 'Location', 'Description', 'Seniority']\n",
    "data = data[columns]"
   ]
  },
  {
   "cell_type": "code",
   "execution_count": 5,
   "id": "63f0fb24-6f97-4dd8-af43-16d8bea1e104",
   "metadata": {},
   "outputs": [
    {
     "data": {
      "text/html": [
       "<div>\n",
       "<style scoped>\n",
       "    .dataframe tbody tr th:only-of-type {\n",
       "        vertical-align: middle;\n",
       "    }\n",
       "\n",
       "    .dataframe tbody tr th {\n",
       "        vertical-align: top;\n",
       "    }\n",
       "\n",
       "    .dataframe thead th {\n",
       "        text-align: right;\n",
       "    }\n",
       "</style>\n",
       "<table border=\"1\" class=\"dataframe\">\n",
       "  <thead>\n",
       "    <tr style=\"text-align: right;\">\n",
       "      <th></th>\n",
       "      <th>Date</th>\n",
       "      <th>Company</th>\n",
       "      <th>Job Title</th>\n",
       "      <th>Location</th>\n",
       "      <th>Description</th>\n",
       "      <th>Seniority</th>\n",
       "    </tr>\n",
       "  </thead>\n",
       "  <tbody>\n",
       "    <tr>\n",
       "      <th>0</th>\n",
       "      <td>2022-02-11</td>\n",
       "      <td>Shopee</td>\n",
       "      <td>Analista de Dados</td>\n",
       "      <td>São Paulo, SP</td>\n",
       "      <td>About The Team\\n\\nAs equipes de Operação do Sh...</td>\n",
       "      <td>Pleno-sênior</td>\n",
       "    </tr>\n",
       "    <tr>\n",
       "      <th>1</th>\n",
       "      <td>2021-11-01</td>\n",
       "      <td>Itaú Unibanco</td>\n",
       "      <td>Analista de Dados</td>\n",
       "      <td>São Paulo, SP</td>\n",
       "      <td>Como é o ambiente de trabalho?\\n\\nO Que Nos Mo...</td>\n",
       "      <td>Não aplicável</td>\n",
       "    </tr>\n",
       "    <tr>\n",
       "      <th>2</th>\n",
       "      <td>2022-02-03</td>\n",
       "      <td>Z1</td>\n",
       "      <td>Analista de Dados</td>\n",
       "      <td>Brasil</td>\n",
       "      <td>Se você sonha com a oportunidade de mostrar se...</td>\n",
       "      <td>Pleno-sênior</td>\n",
       "    </tr>\n",
       "    <tr>\n",
       "      <th>3</th>\n",
       "      <td>2022-02-07</td>\n",
       "      <td>Pitzi</td>\n",
       "      <td>Analista de Dados Jr</td>\n",
       "      <td>Osasco, SP</td>\n",
       "      <td>Descrição da empresa\\n\\nFundada em 2012, a Pit...</td>\n",
       "      <td>Não aplicável</td>\n",
       "    </tr>\n",
       "    <tr>\n",
       "      <th>4</th>\n",
       "      <td>2022-01-21</td>\n",
       "      <td>PicPay</td>\n",
       "      <td>Analista de Dados | Super App</td>\n",
       "      <td>São Paulo, SP</td>\n",
       "      <td>JOB DESCRIPTION\\n\\nDirecionar um ou mais clien...</td>\n",
       "      <td>Assistente</td>\n",
       "    </tr>\n",
       "  </tbody>\n",
       "</table>\n",
       "</div>"
      ],
      "text/plain": [
       "         Date        Company                      Job Title       Location  \\\n",
       "0  2022-02-11         Shopee              Analista de Dados  São Paulo, SP   \n",
       "1  2021-11-01  Itaú Unibanco              Analista de Dados  São Paulo, SP   \n",
       "2  2022-02-03             Z1              Analista de Dados         Brasil   \n",
       "3  2022-02-07          Pitzi           Analista de Dados Jr     Osasco, SP   \n",
       "4  2022-01-21         PicPay  Analista de Dados | Super App  São Paulo, SP   \n",
       "\n",
       "                                         Description      Seniority  \n",
       "0  About The Team\\n\\nAs equipes de Operação do Sh...   Pleno-sênior  \n",
       "1  Como é o ambiente de trabalho?\\n\\nO Que Nos Mo...  Não aplicável  \n",
       "2  Se você sonha com a oportunidade de mostrar se...   Pleno-sênior  \n",
       "3  Descrição da empresa\\n\\nFundada em 2012, a Pit...  Não aplicável  \n",
       "4  JOB DESCRIPTION\\n\\nDirecionar um ou mais clien...     Assistente  "
      ]
     },
     "execution_count": 5,
     "metadata": {},
     "output_type": "execute_result"
    }
   ],
   "source": [
    "data.head()"
   ]
  },
  {
   "cell_type": "markdown",
   "id": "3545a388-7187-40cd-b482-819131b09384",
   "metadata": {},
   "source": [
    "## Info from dataset"
   ]
  },
  {
   "cell_type": "code",
   "execution_count": 6,
   "id": "8bad7c1e-6735-4368-94a1-737741d62a0c",
   "metadata": {},
   "outputs": [
    {
     "data": {
      "text/plain": [
       "Date           0\n",
       "Company        0\n",
       "Job Title      0\n",
       "Location       0\n",
       "Description    0\n",
       "Seniority      0\n",
       "dtype: int64"
      ]
     },
     "execution_count": 6,
     "metadata": {},
     "output_type": "execute_result"
    }
   ],
   "source": [
    "# null values for each column\n",
    "data.isnull().sum()"
   ]
  },
  {
   "cell_type": "code",
   "execution_count": 7,
   "id": "b42f176b-1038-4515-909d-995a61721a17",
   "metadata": {},
   "outputs": [
    {
     "data": {
      "text/plain": [
       "(999, 6)"
      ]
     },
     "execution_count": 7,
     "metadata": {},
     "output_type": "execute_result"
    }
   ],
   "source": [
    "# number of rows and columnns\n",
    "data.shape"
   ]
  },
  {
   "cell_type": "markdown",
   "id": "f442573d-3b24-44f2-82b0-81525dbbd8d2",
   "metadata": {},
   "source": [
    "## Clean the columns \"Date\", \"Job Title\", \"Location\" and \"Seniority\"."
   ]
  },
  {
   "cell_type": "markdown",
   "id": "bda73013-9ff1-47d7-85a2-6a2f78f8ff6c",
   "metadata": {},
   "source": [
    "---\n",
    "## Cleaning the \"Date\" column"
   ]
  },
  {
   "cell_type": "code",
   "execution_count": 8,
   "id": "f3de85d7-eafa-4794-8aa5-21fa50ac399f",
   "metadata": {},
   "outputs": [
    {
     "data": {
      "text/plain": [
       "dtype('O')"
      ]
     },
     "execution_count": 8,
     "metadata": {},
     "output_type": "execute_result"
    }
   ],
   "source": [
    "# verifing the type of the column\n",
    "data['Date'].dtype"
   ]
  },
  {
   "cell_type": "code",
   "execution_count": 9,
   "id": "69847945-0fd6-42bf-b1df-a6cc1230ce9a",
   "metadata": {},
   "outputs": [],
   "source": [
    "# converting the column \"Date\" to datetime\n",
    "data['Date'] = pd.to_datetime(data['Date'])"
   ]
  },
  {
   "cell_type": "code",
   "execution_count": 10,
   "id": "0aa9e1de-160c-43d2-96d4-6703a241e20f",
   "metadata": {},
   "outputs": [
    {
     "data": {
      "text/plain": [
       "dtype('<M8[ns]')"
      ]
     },
     "execution_count": 10,
     "metadata": {},
     "output_type": "execute_result"
    }
   ],
   "source": [
    "data['Date'].dtype"
   ]
  },
  {
   "cell_type": "code",
   "execution_count": 11,
   "id": "73df3ba8-9a18-43fe-b53b-1676cab75f4a",
   "metadata": {},
   "outputs": [
    {
     "data": {
      "text/plain": [
       "count                              999\n",
       "mean     2022-01-21 14:01:48.108108288\n",
       "min                2021-08-31 00:00:00\n",
       "25%                2022-01-13 00:00:00\n",
       "50%                2022-01-27 00:00:00\n",
       "75%                2022-02-08 00:00:00\n",
       "max                2022-02-11 00:00:00\n",
       "Name: Date, dtype: object"
      ]
     },
     "execution_count": 11,
     "metadata": {},
     "output_type": "execute_result"
    }
   ],
   "source": [
    "# looking for outliers\n",
    "data['Date'].describe(datetime_is_numeric=True)"
   ]
  },
  {
   "cell_type": "markdown",
   "id": "54957dfb-85b7-438a-b627-80ec5d0813ab",
   "metadata": {},
   "source": [
    "The first job offer was released on 2021-08-31. It's a pretty old entry, but it's ok for the analysis. We can take a look on its distribution."
   ]
  },
  {
   "cell_type": "code",
   "execution_count": 12,
   "id": "8a694ae2-7ce7-4d62-b4a1-c1101ebd6285",
   "metadata": {},
   "outputs": [
    {
     "data": {
      "text/plain": [
       "2022-02-10    126\n",
       "2022-02-08     51\n",
       "2022-02-03     48\n",
       "2022-02-09     43\n",
       "2022-02-11     38\n",
       "             ... \n",
       "2021-10-20      1\n",
       "2021-11-05      1\n",
       "2021-10-31      1\n",
       "2021-08-31      1\n",
       "2021-11-15      1\n",
       "Name: Date, Length: 91, dtype: int64"
      ]
     },
     "execution_count": 12,
     "metadata": {},
     "output_type": "execute_result"
    }
   ],
   "source": [
    "data['Date'].value_counts()"
   ]
  },
  {
   "cell_type": "code",
   "execution_count": 13,
   "id": "5424aac6-d98a-492b-af41-199983ed5b47",
   "metadata": {},
   "outputs": [
    {
     "data": {
      "image/png": "[encoded data removed]",
      "text/plain": [
       "<Figure size 432x288 with 1 Axes>"
      ]
     },
     "metadata": {},
     "output_type": "display_data"
    }
   ],
   "source": [
    "sns.set_style('darkgrid')\n",
    "sns.histplot(data=data, x=\"Date\")\n",
    "plt.show()"
   ]
  },
  {
   "cell_type": "markdown",
   "id": "e315478d-67f5-4667-9084-4b6f0bceddda",
   "metadata": {},
   "source": [
    "As we can see, most job opportunities are in 2022."
   ]
  },
  {
   "cell_type": "code",
   "execution_count": 14,
   "id": "df50cfe5-1bfe-4fc7-bf50-2d9234d3d9a3",
   "metadata": {},
   "outputs": [
    {
     "data": {
      "text/plain": [
       "Timedelta('164 days 00:00:00')"
      ]
     },
     "execution_count": 14,
     "metadata": {},
     "output_type": "execute_result"
    }
   ],
   "source": [
    "# caculating the date range\n",
    "data['Date'].max() - data['Date'].min()"
   ]
  },
  {
   "cell_type": "markdown",
   "id": "65bc21c4-0461-46a7-b533-d3caca47f363",
   "metadata": {},
   "source": [
    "---\n",
    "## Cleaning the \"Job Title\"\n",
    "\n",
    "During the search for jobs that contain \"Analista de dados (Data Analyst)\" some adjacent jobs may appear in the dataset, such as \"Engenheiro de Dados (Data Engineer)\" and \"Cientista de Dados (Data Scientist)\". We will remove jobs that do not represent \"Analista de dados (Data Analyst)\"."
   ]
  },
  {
   "cell_type": "code",
   "execution_count": 15,
   "id": "aefd1e09-dd05-4157-9944-f987c45eeb69",
   "metadata": {},
   "outputs": [
    {
     "data": {
      "text/plain": [
       "Analista de Dados                                  66\n",
       "Engenheiro de Dados                                25\n",
       "Analista de Banco de Dados                         24\n",
       "Data Analyst                                       21\n",
       "Pessoa Engenheira de Dados                         18\n",
       "                                                   ..\n",
       "Analista de Dados e Projetos Sênior (Analytics)     1\n",
       "Product Data Analyst                                1\n",
       "Analista de Banco de Dados Pleno                    1\n",
       "Analista de Dados - Growth - Eldorado do Sul        1\n",
       "Engenheiro de dados - Tech Lead                     1\n",
       "Name: Job Title, Length: 590, dtype: int64"
      ]
     },
     "execution_count": 15,
     "metadata": {},
     "output_type": "execute_result"
    }
   ],
   "source": [
    "# valores únicos\n",
    "data['Job Title'].value_counts()"
   ]
  },
  {
   "cell_type": "code",
   "execution_count": 16,
   "id": "ca2ffe85-9525-48e0-815d-c646787dd566",
   "metadata": {},
   "outputs": [],
   "source": [
    "# lista de termos chaves de títulos de vaga que interessam\n",
    "list_jobs = ['analista de dados', 'data analyst']\n",
    "\n",
    "# selecionando apenas vagas com títulos contendo os termos chaves\n",
    "bool_mask = data['Job Title'].str.contains('|'.join(list_jobs), case=False)\n",
    "data = data[bool_mask]\n",
    "data.reset_index(drop=True, inplace=True)"
   ]
  },
  {
   "cell_type": "code",
   "execution_count": 17,
   "id": "c1850480-0d8c-4e83-b52a-bc66ee1a19d4",
   "metadata": {},
   "outputs": [
    {
     "data": {
      "text/plain": [
       "Analista de Dados                                                    66\n",
       "Data Analyst                                                         21\n",
       "Analista de Dados Sênior                                             14\n",
       "Analista de dados                                                    13\n",
       "Associate Data Analyst- Customer Experience Group | Bangkok-based    11\n",
       "                                                                     ..\n",
       "VAGA ANALISTA DE DADOS | BI                                           1\n",
       "Analista de Dados Pleno | Time Data                                   1\n",
       "Data Analyst PL                                                       1\n",
       "Analista de Dados Sr (100% home office)                               1\n",
       "Senior Data Analyst (Analista de Mercado Senior)                      1\n",
       "Name: Job Title, Length: 277, dtype: int64"
      ]
     },
     "execution_count": 17,
     "metadata": {},
     "output_type": "execute_result"
    }
   ],
   "source": [
    "data['Job Title'].value_counts()"
   ]
  },
  {
   "cell_type": "markdown",
   "id": "45592f1a-ef11-42a6-abd3-fac730fd0828",
   "metadata": {},
   "source": [
    "the column is clean now!"
   ]
  },
  {
   "cell_type": "markdown",
   "id": "00b7f7f4-18a5-4493-ac8b-f37f62da7178",
   "metadata": {},
   "source": [
    "## Cleaning the \"Location\" column"
   ]
  },
  {
   "cell_type": "code",
   "execution_count": 18,
   "id": "e18443b6-119b-4e08-97e5-cbc2428d9475",
   "metadata": {},
   "outputs": [
    {
     "data": {
      "text/plain": [
       "São Paulo, SP          142\n",
       "São Paulo, Brasil       55\n",
       "Brasil                  32\n",
       "Rio de Janeiro, RJ      29\n",
       "Curitiba, PR            26\n",
       "                      ... \n",
       "Vila Velha, ES           1\n",
       "Nova Petrópolis, RS      1\n",
       "Itajai, RR               1\n",
       "Lavras, MG               1\n",
       "Oeiras, PI               1\n",
       "Name: Location, Length: 72, dtype: int64"
      ]
     },
     "execution_count": 18,
     "metadata": {},
     "output_type": "execute_result"
    }
   ],
   "source": [
    "data['Location'].value_counts()"
   ]
  },
  {
   "cell_type": "markdown",
   "id": "6864e0dc-a3b7-4091-aa5b-c0f0a6a02694",
   "metadata": {},
   "source": [
    "Our analysis will address opportunities by state in Brazil. Therefore, the Local column will contain only the acronyms that determine the state."
   ]
  },
  {
   "cell_type": "code",
   "execution_count": 19,
   "id": "40b20da6-4e1e-4488-bd7a-02a57cf1e913",
   "metadata": {},
   "outputs": [
    {
     "data": {
      "text/plain": [
       "0         São Paulo, SP\n",
       "1         São Paulo, SP\n",
       "3            Osasco, SP\n",
       "4         São Paulo, SP\n",
       "6         São Paulo, SP\n",
       "             ...       \n",
       "489    Porto Alegre, RS\n",
       "491    Porto Alegre, RS\n",
       "492         Vitória, ES\n",
       "494          Agudos, SP\n",
       "495       Fortaleza, CE\n",
       "Name: Location, Length: 363, dtype: object"
      ]
     },
     "execution_count": 19,
     "metadata": {},
     "output_type": "execute_result"
    }
   ],
   "source": [
    "# filtering entries in the Location column that have the state abbreviation at the end of the string\n",
    "match = '[A-Z]{2}'\n",
    "bool_mask = data['Location'].str.contains(match)\n",
    "data.loc[bool_mask, 'Location']"
   ]
  },
  {
   "cell_type": "code",
   "execution_count": 20,
   "id": "3445e781-f088-483a-a1f0-2fe57bf88011",
   "metadata": {},
   "outputs": [],
   "source": [
    "# Extracting only the acronyms at the end of each string\n",
    "data.loc[bool_mask, 'Location'] = data.copy().loc[bool_mask, 'Location'].apply(lambda x: x[-2:])"
   ]
  },
  {
   "cell_type": "code",
   "execution_count": 21,
   "id": "94f6ebbe-c6ed-4cac-8efa-d83f61315a21",
   "metadata": {},
   "outputs": [
    {
     "data": {
      "text/plain": [
       "SP                         192\n",
       "São Paulo, Brasil           55\n",
       "Brasil                      32\n",
       "PR                          32\n",
       "RJ                          30\n",
       "SC                          25\n",
       "São Paulo e Região          24\n",
       "MG                          23\n",
       "RS                          23\n",
       "Porto Alegre e Região        9\n",
       "DF                           9\n",
       "PE                           6\n",
       "GO                           5\n",
       "CE                           5\n",
       "Rio de Janeiro, Brasil       4\n",
       "ES                           4\n",
       "Goiânia e Região             3\n",
       "Belém e Região               2\n",
       "AM                           2\n",
       "BA                           2\n",
       "Florianópolis e Região       2\n",
       "MT                           1\n",
       "Belo Horizonte e Região      1\n",
       "Campinas e Região            1\n",
       "RR                           1\n",
       "PB                           1\n",
       "Recife e Região              1\n",
       "MS                           1\n",
       "PI                           1\n",
       "Name: Location, dtype: int64"
      ]
     },
     "execution_count": 21,
     "metadata": {},
     "output_type": "execute_result"
    }
   ],
   "source": [
    "# take a look in the unique values\n",
    "data['Location'].value_counts()"
   ]
  },
  {
   "cell_type": "code",
   "execution_count": 22,
   "id": "4b30666d-a866-47c5-9585-03abbd3fe266",
   "metadata": {},
   "outputs": [],
   "source": [
    "# Replacing the other entries in the Location column with acronyms\n",
    "cities_states = {\n",
    "    'São Paulo, Brasil':'SP',\n",
    "    'São Paulo e Região':'SP',\n",
    "    'Brasil':'Unknown',\n",
    "    'Distrito Federal, Brasil':'DF',\n",
    "    'Rio de Janeiro, Brasil':'RJ',\n",
    "    'Ribeirão Preto e Região':'SP',\n",
    "    'Pará, Brasil':'PA',\n",
    "    'Belo Horizonte e Região':'MG',\n",
    "    'Curitiba e Região':'PR',\n",
    "    'Vitória e Região':'ES',\n",
    "    'Santa Catarina, Brasil':'SC',\n",
    "    'Campinas e Região':'SP',\n",
    "    'Paraná, Brasil':'PR',\n",
    "    'Porto Alegre e Região' : 'RS',\n",
    "    'Goiânia e Região' : 'GO',\n",
    "    'Florianópolis e Região' : 'SC',\n",
    "    'Belém e Região' : 'PA',\n",
    "    'Recife e Região' : 'PE'\n",
    "}\n",
    "\n",
    "data['Location'] = data['Location'].replace(cities_states)"
   ]
  },
  {
   "cell_type": "code",
   "execution_count": 23,
   "id": "b121ac61-da7b-4c50-8235-1db950286564",
   "metadata": {},
   "outputs": [
    {
     "data": {
      "text/plain": [
       "SP         272\n",
       "RJ          34\n",
       "Unknown     32\n",
       "PR          32\n",
       "RS          32\n",
       "SC          27\n",
       "MG          24\n",
       "DF           9\n",
       "GO           8\n",
       "PE           7\n",
       "CE           5\n",
       "ES           4\n",
       "BA           2\n",
       "AM           2\n",
       "PA           2\n",
       "MS           1\n",
       "PB           1\n",
       "RR           1\n",
       "MT           1\n",
       "PI           1\n",
       "Name: Location, dtype: int64"
      ]
     },
     "execution_count": 23,
     "metadata": {},
     "output_type": "execute_result"
    }
   ],
   "source": [
    "data['Location'].value_counts()"
   ]
  },
  {
   "cell_type": "code",
   "execution_count": 26,
   "id": "7952ded4-99b6-4da1-b165-08c9feb07f8b",
   "metadata": {},
   "outputs": [],
   "source": [
    "# eliminating entries with unknown location\n",
    "data = data[data['Location'] != 'Unknown']\n",
    "data.reset_index(drop=True, inplace=True)"
   ]
  },
  {
   "cell_type": "markdown",
   "id": "c7a02169-086c-4d15-8698-b2cf8cc6bb54",
   "metadata": {},
   "source": [
    "Now the column is ok."
   ]
  },
  {
   "cell_type": "markdown",
   "id": "8448c3e5-8cc0-4c85-9f2d-1864b269c336",
   "metadata": {},
   "source": [
    "## Cleaning the \"Seniority\" column"
   ]
  },
  {
   "cell_type": "code",
   "execution_count": 27,
   "id": "1e520dc1-775f-48b3-8dd3-b226c27b77a3",
   "metadata": {},
   "outputs": [
    {
     "data": {
      "text/plain": [
       "Não aplicável    186\n",
       "Assistente       102\n",
       "Júnior            92\n",
       "Pleno-sênior      84\n",
       "Estágio            1\n",
       "Name: Seniority, dtype: int64"
      ]
     },
     "execution_count": 27,
     "metadata": {},
     "output_type": "execute_result"
    }
   ],
   "source": [
    "data['Seniority'].value_counts()"
   ]
  },
  {
   "cell_type": "markdown",
   "id": "47309ff7-6320-4652-b948-22e49acf6475",
   "metadata": {},
   "source": [
    "The column is ok."
   ]
  },
  {
   "cell_type": "markdown",
   "id": "4d1e9fe4-a842-42c4-977c-00d1f395b82d",
   "metadata": {},
   "source": [
    "## Finding the technologies"
   ]
  },
  {
   "cell_type": "code",
   "execution_count": 34,
   "id": "e1e8a873-5999-4e16-a9cc-909d57ecae4e",
   "metadata": {},
   "outputs": [
    {
     "ename": "KeyError",
     "evalue": "'Description'",
     "output_type": "error",
     "traceback": [
      "\u001b[1;31m---------------------------------------------------------------------------\u001b[0m",
      "\u001b[1;31mKeyError\u001b[0m                                  Traceback (most recent call last)",
      "\u001b[1;32mD:\\Users\\faust\\anaconda3\\lib\\site-packages\\pandas\\core\\indexes\\base.py\u001b[0m in \u001b[0;36mget_loc\u001b[1;34m(self, key, method, tolerance)\u001b[0m\n\u001b[0;32m   3360\u001b[0m             \u001b[1;32mtry\u001b[0m\u001b[1;33m:\u001b[0m\u001b[1;33m\u001b[0m\u001b[1;33m\u001b[0m\u001b[0m\n\u001b[1;32m-> 3361\u001b[1;33m                 \u001b[1;32mreturn\u001b[0m \u001b[0mself\u001b[0m\u001b[1;33m.\u001b[0m\u001b[0m_engine\u001b[0m\u001b[1;33m.\u001b[0m\u001b[0mget_loc\u001b[0m\u001b[1;33m(\u001b[0m\u001b[0mcasted_key\u001b[0m\u001b[1;33m)\u001b[0m\u001b[1;33m\u001b[0m\u001b[1;33m\u001b[0m\u001b[0m\n\u001b[0m\u001b[0;32m   3362\u001b[0m             \u001b[1;32mexcept\u001b[0m \u001b[0mKeyError\u001b[0m \u001b[1;32mas\u001b[0m \u001b[0merr\u001b[0m\u001b[1;33m:\u001b[0m\u001b[1;33m\u001b[0m\u001b[1;33m\u001b[0m\u001b[0m\n",
      "\u001b[1;32mD:\\Users\\faust\\anaconda3\\lib\\site-packages\\pandas\\_libs\\index.pyx\u001b[0m in \u001b[0;36mpandas._libs.index.IndexEngine.get_loc\u001b[1;34m()\u001b[0m\n",
      "\u001b[1;32mD:\\Users\\faust\\anaconda3\\lib\\site-packages\\pandas\\_libs\\index.pyx\u001b[0m in \u001b[0;36mpandas._libs.index.IndexEngine.get_loc\u001b[1;34m()\u001b[0m\n",
      "\u001b[1;32mpandas\\_libs\\hashtable_class_helper.pxi\u001b[0m in \u001b[0;36mpandas._libs.hashtable.PyObjectHashTable.get_item\u001b[1;34m()\u001b[0m\n",
      "\u001b[1;32mpandas\\_libs\\hashtable_class_helper.pxi\u001b[0m in \u001b[0;36mpandas._libs.hashtable.PyObjectHashTable.get_item\u001b[1;34m()\u001b[0m\n",
      "\u001b[1;31mKeyError\u001b[0m: 'Description'",
      "\nThe above exception was the direct cause of the following exception:\n",
      "\u001b[1;31mKeyError\u001b[0m                                  Traceback (most recent call last)",
      "\u001b[1;32m~\\AppData\\Local\\Temp/ipykernel_1580/1151593900.py\u001b[0m in \u001b[0;36m<module>\u001b[1;34m\u001b[0m\n\u001b[0;32m     19\u001b[0m \u001b[1;31m# adicionando novas colunas ao dataset informando se há ocorrência das tecnologias (1 = contém e 0 = não contém)\u001b[0m\u001b[1;33m\u001b[0m\u001b[1;33m\u001b[0m\u001b[0m\n\u001b[0;32m     20\u001b[0m \u001b[1;32mfor\u001b[0m \u001b[0mname\u001b[0m \u001b[1;32min\u001b[0m \u001b[0mtec\u001b[0m\u001b[1;33m:\u001b[0m\u001b[1;33m\u001b[0m\u001b[1;33m\u001b[0m\u001b[0m\n\u001b[1;32m---> 21\u001b[1;33m     \u001b[0mdata\u001b[0m\u001b[1;33m.\u001b[0m\u001b[0mloc\u001b[0m\u001b[1;33m[\u001b[0m\u001b[0mname\u001b[0m\u001b[1;33m]\u001b[0m \u001b[1;33m=\u001b[0m \u001b[0mdata\u001b[0m\u001b[1;33m.\u001b[0m\u001b[0mloc\u001b[0m\u001b[1;33m[\u001b[0m\u001b[1;34m'Description'\u001b[0m\u001b[1;33m]\u001b[0m\u001b[1;33m.\u001b[0m\u001b[0mstr\u001b[0m\u001b[1;33m.\u001b[0m\u001b[0mcontains\u001b[0m\u001b[1;33m(\u001b[0m\u001b[0mname\u001b[0m\u001b[1;33m,\u001b[0m \u001b[0mcase\u001b[0m\u001b[1;33m=\u001b[0m\u001b[1;32mFalse\u001b[0m\u001b[1;33m,\u001b[0m \u001b[0mregex\u001b[0m\u001b[1;33m=\u001b[0m\u001b[1;32mTrue\u001b[0m\u001b[1;33m)\u001b[0m\u001b[1;33m.\u001b[0m\u001b[0mastype\u001b[0m\u001b[1;33m(\u001b[0m\u001b[0mint\u001b[0m\u001b[1;33m)\u001b[0m\u001b[1;33m\u001b[0m\u001b[1;33m\u001b[0m\u001b[0m\n\u001b[0m\u001b[0;32m     22\u001b[0m \u001b[1;33m\u001b[0m\u001b[0m\n\u001b[0;32m     23\u001b[0m \u001b[1;33m\u001b[0m\u001b[0m\n",
      "\u001b[1;32mD:\\Users\\faust\\anaconda3\\lib\\site-packages\\pandas\\core\\indexing.py\u001b[0m in \u001b[0;36m__getitem__\u001b[1;34m(self, key)\u001b[0m\n\u001b[0;32m    929\u001b[0m \u001b[1;33m\u001b[0m\u001b[0m\n\u001b[0;32m    930\u001b[0m             \u001b[0mmaybe_callable\u001b[0m \u001b[1;33m=\u001b[0m \u001b[0mcom\u001b[0m\u001b[1;33m.\u001b[0m\u001b[0mapply_if_callable\u001b[0m\u001b[1;33m(\u001b[0m\u001b[0mkey\u001b[0m\u001b[1;33m,\u001b[0m \u001b[0mself\u001b[0m\u001b[1;33m.\u001b[0m\u001b[0mobj\u001b[0m\u001b[1;33m)\u001b[0m\u001b[1;33m\u001b[0m\u001b[1;33m\u001b[0m\u001b[0m\n\u001b[1;32m--> 931\u001b[1;33m             \u001b[1;32mreturn\u001b[0m \u001b[0mself\u001b[0m\u001b[1;33m.\u001b[0m\u001b[0m_getitem_axis\u001b[0m\u001b[1;33m(\u001b[0m\u001b[0mmaybe_callable\u001b[0m\u001b[1;33m,\u001b[0m \u001b[0maxis\u001b[0m\u001b[1;33m=\u001b[0m\u001b[0maxis\u001b[0m\u001b[1;33m)\u001b[0m\u001b[1;33m\u001b[0m\u001b[1;33m\u001b[0m\u001b[0m\n\u001b[0m\u001b[0;32m    932\u001b[0m \u001b[1;33m\u001b[0m\u001b[0m\n\u001b[0;32m    933\u001b[0m     \u001b[1;32mdef\u001b[0m \u001b[0m_is_scalar_access\u001b[0m\u001b[1;33m(\u001b[0m\u001b[0mself\u001b[0m\u001b[1;33m,\u001b[0m \u001b[0mkey\u001b[0m\u001b[1;33m:\u001b[0m \u001b[0mtuple\u001b[0m\u001b[1;33m)\u001b[0m\u001b[1;33m:\u001b[0m\u001b[1;33m\u001b[0m\u001b[1;33m\u001b[0m\u001b[0m\n",
      "\u001b[1;32mD:\\Users\\faust\\anaconda3\\lib\\site-packages\\pandas\\core\\indexing.py\u001b[0m in \u001b[0;36m_getitem_axis\u001b[1;34m(self, key, axis)\u001b[0m\n\u001b[0;32m   1162\u001b[0m         \u001b[1;31m# fall thru to straight lookup\u001b[0m\u001b[1;33m\u001b[0m\u001b[1;33m\u001b[0m\u001b[0m\n\u001b[0;32m   1163\u001b[0m         \u001b[0mself\u001b[0m\u001b[1;33m.\u001b[0m\u001b[0m_validate_key\u001b[0m\u001b[1;33m(\u001b[0m\u001b[0mkey\u001b[0m\u001b[1;33m,\u001b[0m \u001b[0maxis\u001b[0m\u001b[1;33m)\u001b[0m\u001b[1;33m\u001b[0m\u001b[1;33m\u001b[0m\u001b[0m\n\u001b[1;32m-> 1164\u001b[1;33m         \u001b[1;32mreturn\u001b[0m \u001b[0mself\u001b[0m\u001b[1;33m.\u001b[0m\u001b[0m_get_label\u001b[0m\u001b[1;33m(\u001b[0m\u001b[0mkey\u001b[0m\u001b[1;33m,\u001b[0m \u001b[0maxis\u001b[0m\u001b[1;33m=\u001b[0m\u001b[0maxis\u001b[0m\u001b[1;33m)\u001b[0m\u001b[1;33m\u001b[0m\u001b[1;33m\u001b[0m\u001b[0m\n\u001b[0m\u001b[0;32m   1165\u001b[0m \u001b[1;33m\u001b[0m\u001b[0m\n\u001b[0;32m   1166\u001b[0m     \u001b[1;32mdef\u001b[0m \u001b[0m_get_slice_axis\u001b[0m\u001b[1;33m(\u001b[0m\u001b[0mself\u001b[0m\u001b[1;33m,\u001b[0m \u001b[0mslice_obj\u001b[0m\u001b[1;33m:\u001b[0m \u001b[0mslice\u001b[0m\u001b[1;33m,\u001b[0m \u001b[0maxis\u001b[0m\u001b[1;33m:\u001b[0m \u001b[0mint\u001b[0m\u001b[1;33m)\u001b[0m\u001b[1;33m:\u001b[0m\u001b[1;33m\u001b[0m\u001b[1;33m\u001b[0m\u001b[0m\n",
      "\u001b[1;32mD:\\Users\\faust\\anaconda3\\lib\\site-packages\\pandas\\core\\indexing.py\u001b[0m in \u001b[0;36m_get_label\u001b[1;34m(self, label, axis)\u001b[0m\n\u001b[0;32m   1111\u001b[0m     \u001b[1;32mdef\u001b[0m \u001b[0m_get_label\u001b[0m\u001b[1;33m(\u001b[0m\u001b[0mself\u001b[0m\u001b[1;33m,\u001b[0m \u001b[0mlabel\u001b[0m\u001b[1;33m,\u001b[0m \u001b[0maxis\u001b[0m\u001b[1;33m:\u001b[0m \u001b[0mint\u001b[0m\u001b[1;33m)\u001b[0m\u001b[1;33m:\u001b[0m\u001b[1;33m\u001b[0m\u001b[1;33m\u001b[0m\u001b[0m\n\u001b[0;32m   1112\u001b[0m         \u001b[1;31m# GH#5667 this will fail if the label is not present in the axis.\u001b[0m\u001b[1;33m\u001b[0m\u001b[1;33m\u001b[0m\u001b[0m\n\u001b[1;32m-> 1113\u001b[1;33m         \u001b[1;32mreturn\u001b[0m \u001b[0mself\u001b[0m\u001b[1;33m.\u001b[0m\u001b[0mobj\u001b[0m\u001b[1;33m.\u001b[0m\u001b[0mxs\u001b[0m\u001b[1;33m(\u001b[0m\u001b[0mlabel\u001b[0m\u001b[1;33m,\u001b[0m \u001b[0maxis\u001b[0m\u001b[1;33m=\u001b[0m\u001b[0maxis\u001b[0m\u001b[1;33m)\u001b[0m\u001b[1;33m\u001b[0m\u001b[1;33m\u001b[0m\u001b[0m\n\u001b[0m\u001b[0;32m   1114\u001b[0m \u001b[1;33m\u001b[0m\u001b[0m\n\u001b[0;32m   1115\u001b[0m     \u001b[1;32mdef\u001b[0m \u001b[0m_handle_lowerdim_multi_index_axis0\u001b[0m\u001b[1;33m(\u001b[0m\u001b[0mself\u001b[0m\u001b[1;33m,\u001b[0m \u001b[0mtup\u001b[0m\u001b[1;33m:\u001b[0m \u001b[0mtuple\u001b[0m\u001b[1;33m)\u001b[0m\u001b[1;33m:\u001b[0m\u001b[1;33m\u001b[0m\u001b[1;33m\u001b[0m\u001b[0m\n",
      "\u001b[1;32mD:\\Users\\faust\\anaconda3\\lib\\site-packages\\pandas\\core\\generic.py\u001b[0m in \u001b[0;36mxs\u001b[1;34m(self, key, axis, level, drop_level)\u001b[0m\n\u001b[0;32m   3774\u001b[0m                 \u001b[1;32mraise\u001b[0m \u001b[0mTypeError\u001b[0m\u001b[1;33m(\u001b[0m\u001b[1;34mf\"Expected label or tuple of labels, got {key}\"\u001b[0m\u001b[1;33m)\u001b[0m \u001b[1;32mfrom\u001b[0m \u001b[0me\u001b[0m\u001b[1;33m\u001b[0m\u001b[1;33m\u001b[0m\u001b[0m\n\u001b[0;32m   3775\u001b[0m         \u001b[1;32melse\u001b[0m\u001b[1;33m:\u001b[0m\u001b[1;33m\u001b[0m\u001b[1;33m\u001b[0m\u001b[0m\n\u001b[1;32m-> 3776\u001b[1;33m             \u001b[0mloc\u001b[0m \u001b[1;33m=\u001b[0m \u001b[0mindex\u001b[0m\u001b[1;33m.\u001b[0m\u001b[0mget_loc\u001b[0m\u001b[1;33m(\u001b[0m\u001b[0mkey\u001b[0m\u001b[1;33m)\u001b[0m\u001b[1;33m\u001b[0m\u001b[1;33m\u001b[0m\u001b[0m\n\u001b[0m\u001b[0;32m   3777\u001b[0m \u001b[1;33m\u001b[0m\u001b[0m\n\u001b[0;32m   3778\u001b[0m             \u001b[1;32mif\u001b[0m \u001b[0misinstance\u001b[0m\u001b[1;33m(\u001b[0m\u001b[0mloc\u001b[0m\u001b[1;33m,\u001b[0m \u001b[0mnp\u001b[0m\u001b[1;33m.\u001b[0m\u001b[0mndarray\u001b[0m\u001b[1;33m)\u001b[0m\u001b[1;33m:\u001b[0m\u001b[1;33m\u001b[0m\u001b[1;33m\u001b[0m\u001b[0m\n",
      "\u001b[1;32mD:\\Users\\faust\\anaconda3\\lib\\site-packages\\pandas\\core\\indexes\\base.py\u001b[0m in \u001b[0;36mget_loc\u001b[1;34m(self, key, method, tolerance)\u001b[0m\n\u001b[0;32m   3361\u001b[0m                 \u001b[1;32mreturn\u001b[0m \u001b[0mself\u001b[0m\u001b[1;33m.\u001b[0m\u001b[0m_engine\u001b[0m\u001b[1;33m.\u001b[0m\u001b[0mget_loc\u001b[0m\u001b[1;33m(\u001b[0m\u001b[0mcasted_key\u001b[0m\u001b[1;33m)\u001b[0m\u001b[1;33m\u001b[0m\u001b[1;33m\u001b[0m\u001b[0m\n\u001b[0;32m   3362\u001b[0m             \u001b[1;32mexcept\u001b[0m \u001b[0mKeyError\u001b[0m \u001b[1;32mas\u001b[0m \u001b[0merr\u001b[0m\u001b[1;33m:\u001b[0m\u001b[1;33m\u001b[0m\u001b[1;33m\u001b[0m\u001b[0m\n\u001b[1;32m-> 3363\u001b[1;33m                 \u001b[1;32mraise\u001b[0m \u001b[0mKeyError\u001b[0m\u001b[1;33m(\u001b[0m\u001b[0mkey\u001b[0m\u001b[1;33m)\u001b[0m \u001b[1;32mfrom\u001b[0m \u001b[0merr\u001b[0m\u001b[1;33m\u001b[0m\u001b[1;33m\u001b[0m\u001b[0m\n\u001b[0m\u001b[0;32m   3364\u001b[0m \u001b[1;33m\u001b[0m\u001b[0m\n\u001b[0;32m   3365\u001b[0m         \u001b[1;32mif\u001b[0m \u001b[0mis_scalar\u001b[0m\u001b[1;33m(\u001b[0m\u001b[0mkey\u001b[0m\u001b[1;33m)\u001b[0m \u001b[1;32mand\u001b[0m \u001b[0misna\u001b[0m\u001b[1;33m(\u001b[0m\u001b[0mkey\u001b[0m\u001b[1;33m)\u001b[0m \u001b[1;32mand\u001b[0m \u001b[1;32mnot\u001b[0m \u001b[0mself\u001b[0m\u001b[1;33m.\u001b[0m\u001b[0mhasnans\u001b[0m\u001b[1;33m:\u001b[0m\u001b[1;33m\u001b[0m\u001b[1;33m\u001b[0m\u001b[0m\n",
      "\u001b[1;31mKeyError\u001b[0m: 'Description'"
     ]
    }
   ],
   "source": [
    "# We will add columns that will store the occurrence of technologies:\n",
    "# 'git', 'python', 'sql', 'excel', 'power bi', 'tableau', 'Google Sheets', 'SAS'\n",
    "\n",
    "# tecnologias\n",
    "tec = [\n",
    "    'Azure',\n",
    "    '[\\s|\\,|\\.\\;]excel[\\s|\\,|\\.\\;]',\n",
    "    '[\\s|\\,|\\.\\;]git[\\s|\\,|\\.\\;]',\n",
    "    'Google[\\s]{0,1}Sheets',\n",
    "    'power[\\s]{0,1}bi',\n",
    "    'Python',\n",
    "    '[\\s|\\,|\\.\\;]r[\\s|\\,|\\.\\;]|linguagemr',\n",
    "    '[\\s|\\,|\\.\\;]sas[\\s|\\,|\\.\\;]',\n",
    "    'Sql',   \n",
    "    'Tableau' \n",
    "]\n",
    "# print(tec)\n",
    "\n",
    "# adicionando novas colunas ao dataset informando se há ocorrência das tecnologias (1 = contém e 0 = não contém)\n",
    "for name in tec:\n",
    "    data.loc[name] = data.loc['Description'].str.contains(name, case=False, regex=True).astype(int)\n",
    "    \n",
    "    \n",
    "\n",
    "# renomenando colunas\n",
    "data.rename(columns={\n",
    "    'power[\\s]{0,1}bi':'Power Bi',\n",
    "    '[\\s|\\,|\\.\\;]git[\\s|\\,|\\.\\;]':'Git',\n",
    "    '[\\s|\\,|\\.\\;]excel[\\s|\\,|\\.\\;]':'Excel',\n",
    "    '[\\s|\\,|\\.\\;]sas[\\s|\\,|\\.\\;]':'Sas',\n",
    "    '[\\s|\\,|\\.\\;]r[\\s|\\,|\\.\\;]|linguagemr':'Linguagem R',\n",
    "    'Google[\\s]{0,1}Sheets' : 'Google Sheets'\n",
    "}, inplace=True)"
   ]
  },
  {
   "cell_type": "code",
   "execution_count": null,
   "id": "8a6368f2-eaa1-44ec-9497-eb0ba1f398d0",
   "metadata": {},
   "outputs": [],
   "source": [
    "data.head()"
   ]
  },
  {
   "cell_type": "code",
   "execution_count": null,
   "id": "f65f7ea5-2002-4f56-9a4d-44e3195a183c",
   "metadata": {},
   "outputs": [],
   "source": [
    "# data.to_csv('job_data_cleaned.csv', index=False)"
   ]
  },
  {
   "cell_type": "code",
   "execution_count": null,
   "id": "1354dc0a-f7e9-4e44-a759-fb09b48ca3a8",
   "metadata": {},
   "outputs": [],
   "source": [
    "# dicinário do total de aparições dos termos Azure, Excel, Git, Google Sheets, Power Bi, Python, Linguagem R, \n",
    "# Sas, Sql e Tableau\n",
    "\n",
    "tec = ['Azure', 'Excel', 'Git', 'Google Sheets', 'Power Bi', 'Python', 'Linguagem R', 'Sas', 'Sql', 'Tableau']\n",
    "valores = [round(data[item].sum()*100/ data.shape[0]) for item in tec]\n",
    "list_aparicoes = dict(zip(tec, valores))\n",
    "\n",
    "# ordenado reversamente as entradas do dicionário pelos valores\n",
    "list_aparicoes = dict(sorted(list_aparicoes.items(), key=lambda item: item[1], reverse=True))\n",
    "\n",
    "# escrevendo o símbolo de porcentagem\n",
    "# list_aparicoes = list_aparicoes"
   ]
  },
  {
   "cell_type": "code",
   "execution_count": null,
   "id": "743dd7ae-19f9-4778-94d5-00588c6e95f6",
   "metadata": {},
   "outputs": [],
   "source": [
    "bars = ['Azure', 'Excel', 'Git', 'Linguagem R', 'Power Bi', 'Python', 'Sas', 'Sql', 'Tableau']\n",
    "heights = [data[item].sum() for item in bars]\n",
    "y_pos = np.arange(len(bars))\n",
    "\n",
    "# Create horizontal bars\n",
    "plt.barh(y_pos, heights)\n",
    "\n",
    "# Create names on the x-axis\n",
    "plt.yticks(y_pos, bars)\n",
    "\n",
    "plt.show()"
   ]
  },
  {
   "cell_type": "code",
   "execution_count": null,
   "id": "34468289-b625-4d93-acf9-8653a56e45a7",
   "metadata": {},
   "outputs": [],
   "source": []
  }
 ],
 "metadata": {
  "kernelspec": {
   "display_name": "Python 3 (ipykernel)",
   "language": "python",
   "name": "python3"
  },
  "language_info": {
   "codemirror_mode": {
    "name": "ipython",
    "version": 3
   },
   "file_extension": ".py",
   "mimetype": "text/x-python",
   "name": "python",
   "nbconvert_exporter": "python",
   "pygments_lexer": "ipython3",
   "version": "3.9.7"
  }
 },
 "nbformat": 4,
 "nbformat_minor": 5
}
