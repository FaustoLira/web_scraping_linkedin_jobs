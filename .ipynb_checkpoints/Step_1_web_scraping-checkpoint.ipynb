{
 "cells": [
  {
   "cell_type": "markdown",
   "metadata": {},
   "source": [
    "# Job data in LinkedIn"
   ]
  },
  {
   "cell_type": "code",
   "execution_count": 1,
   "metadata": {},
   "outputs": [],
   "source": [
    "# packages\n",
    "import pandas as pd\n",
    "import re # regular expressins\n",
    "from selenium import webdriver\n",
    "from selenium.webdriver.common.keys import Keys\n",
    "import time"
   ]
  },
  {
   "cell_type": "code",
   "execution_count": 2,
   "metadata": {},
   "outputs": [],
   "source": [
    "# some global variables\n",
    "\n",
    "# inputation\n",
    "type_job = 'Analista de dados'\n",
    "location = 'Brazil'"
   ]
  },
  {
   "cell_type": "code",
   "execution_count": 3,
   "metadata": {},
   "outputs": [],
   "source": [
    "# creating a browser object\n",
    "path = 'C:/Users/faust/Documents/chromedriver.exe'\n",
    "\n",
    "options = webdriver.ChromeOptions()\n",
    "options.add_argument('--incognito')\n",
    "options.add_argument('--start-maximized')\n",
    "\n",
    "browser = webdriver.Chrome(path, options=options)\n",
    "browser.get('https://www.linkedin.com/jobs/') "
   ]
  },
  {
   "cell_type": "code",
   "execution_count": 4,
   "metadata": {},
   "outputs": [
    {
     "name": "stdout",
     "output_type": "stream",
     "text": [
      "There are 5.000 jobs in Linkdin's website\n"
     ]
    }
   ],
   "source": [
    "# Open job's page\n",
    "\n",
    "# job search\n",
    "job_search = browser.find_element_by_xpath('//*[@id=\"JOBS\"]/section[1]/input')\n",
    "job_search.send_keys(type_job)\n",
    "\n",
    "# location search\n",
    "browser.find_element_by_xpath('//*[@id=\"JOBS\"]/section[2]/button').click() # clean\n",
    "location_search = browser.find_element_by_xpath('//*[@id=\"JOBS\"]/section[2]/input')\n",
    "location_search.send_keys(location)\n",
    "\n",
    "# hit search button\n",
    "browser.find_element_by_xpath('//*[@id=\"main-content\"]/section[1]/div/section/div[2]/button[2]').click()\n",
    "\n",
    "# browse all jobs\n",
    "print(f\"There are {browser.find_element_by_css_selector('h1>span').get_attribute('innerText')} jobs in Linkdin's website\")\n",
    "# no_of_jobs = int(browser.find_element_by_css_selector('h1>span').get_attribute('innerText').replace('.',''))\n",
    "\n",
    "num_scrolls = 4\n",
    "i = 1\n",
    "while i <= num_scrolls:\n",
    "    browser.execute_script('window.scrollTo(0, document.body.scrollHeight);')\n",
    "    i = i + 1\n",
    "    try:\n",
    "#       clicar no botão \"exibir mais\"\n",
    "        browser.find_element_by_xpath('//*[@id=\"main-content\"]/section[2]/button').click()\n",
    "        time.sleep(5)\n",
    "    except:\n",
    "        pass\n",
    "        time.sleep(5)"
   ]
  },
  {
   "cell_type": "code",
   "execution_count": 5,
   "metadata": {},
   "outputs": [
    {
     "name": "stdout",
     "output_type": "stream",
     "text": [
      "We consider 125 job offers.\n"
     ]
    }
   ],
   "source": [
    "# find all the jobs\n",
    "job_lists = browser.find_element_by_class_name('jobs-search__results-list')\n",
    "jobs = list(job_lists.find_elements_by_tag_name('li')) # return a list\n",
    "num_of_jobs = len(jobs)\n",
    "print(f'We consider {num_of_jobs} job offers.')"
   ]
  },
  {
   "cell_type": "code",
   "execution_count": null,
   "metadata": {},
   "outputs": [],
   "source": []
  },
  {
   "cell_type": "code",
   "execution_count": 6,
   "metadata": {},
   "outputs": [],
   "source": [
    "# load job datails into DataFrame\n",
    "job_id= []\n",
    "job_title = []\n",
    "company_name = []\n",
    "location = []\n",
    "date = []\n",
    "job_link = []\n",
    "\n",
    "for i in range(num_of_jobs):\n",
    "# for job in jobs:\n",
    "#     job_id0 = jobs[i].get_attribute('data-id')\n",
    "#     job_id.append(job_id0)\n",
    " \n",
    "    job_title0 = jobs[i].find_element_by_css_selector('h3').get_attribute('innerText')\n",
    "    job_title.append(job_title0)\n",
    " \n",
    "    company_name0 = jobs[i].find_element_by_css_selector('h4').get_attribute('innerText')\n",
    "    company_name.append(company_name0)\n",
    " \n",
    "    meta_data = jobs[i].find_element_by_class_name('base-search-card__metadata')\n",
    "    location0 = meta_data.find_element_by_class_name('job-search-card__location').get_attribute('innerText')\n",
    "    location.append(location0)\n",
    " \n",
    "    date0 = jobs[i].find_element_by_css_selector('div>div>time').get_attribute('datetime')\n",
    "    date.append(date0)\n",
    " \n",
    "    job_link0 = jobs[i].find_element_by_css_selector('a').get_attribute('href')\n",
    "    job_link.append(job_link0)"
   ]
  },
  {
   "cell_type": "code",
   "execution_count": 7,
   "metadata": {},
   "outputs": [
    {
     "name": "stdout",
     "output_type": "stream",
     "text": [
      "job_title size list is 125\n",
      "company_name size list is 125\n",
      "location size list is 125\n",
      "date size list is 125\n",
      "job_link size list is 125\n"
     ]
    }
   ],
   "source": [
    "# print(f'job_id size list is {len(job_id)}')\n",
    "print(f'job_title size list is {len(job_title)}')\n",
    "print(f'company_name size list is {len(company_name)}')\n",
    "print(f'location size list is {len(location)}')\n",
    "print(f'date size list is {len(date)}')\n",
    "print(f'job_link size list is {len(job_link)}')"
   ]
  },
  {
   "cell_type": "code",
   "execution_count": 8,
   "metadata": {},
   "outputs": [],
   "source": [
    "# extract data from each job offer. \n",
    "jd = []\n",
    "seniority = []\n",
    "emp_type = []\n",
    "job_func = []\n",
    "industries = []\n",
    "\n",
    "step_check = []\n",
    "\n",
    "for item in range(1, num_of_jobs+1):\n",
    "    \n",
    "    job_func0=[]\n",
    "    industries0=[]\n",
    "    # clicking job to view job details\n",
    "    job_click_path_list = [\n",
    "        f'//*[@id=\"main-content\"]/section[2]/ul/li[{item}]/div/a',\n",
    "        f'//*[@id=\"main-content\"]/section[2]/ul/li[{item}]/a/div[2]/h3'\n",
    "    ]\n",
    "    for i in range(len(job_click_path_list)):\n",
    "        try:\n",
    "            job_click = browser.find_element_by_xpath(job_click_path_list[i]).click()\n",
    "            step_check.append('click ok')\n",
    "            break\n",
    "        except:\n",
    "            continue\n",
    "    \n",
    "    time.sleep(5) \n",
    "    \n",
    "    # obtain the job description (if it does not exist, skip to the next job offer)\n",
    "    jd_path_list = [\n",
    "        '/html/body/div[1]/div/section/div[2]/div/section[1]/div/div/section/div',\n",
    "        '/html/body/div[1]/div/section/div[2]/div[1]/section[1]/div/div/section/div',\n",
    "        '/html/body/div[1]/div/section/div[2]/div/section[2]/div/div/section/div'\n",
    "    ]\n",
    "    for i in range(len(jd_path_list)):\n",
    "        try:\n",
    "            jd0 = browser.find_element_by_xpath(jd_path_list[i]).get_attribute('innerText')\n",
    "            jd.append(jd0)\n",
    "            step_check.append('jd ok')\n",
    "            break\n",
    "        except:\n",
    "            continue\n",
    "    \n",
    "    # add seniority, job type, job function, industries\n",
    "    for i in range(1,5):\n",
    "        try:\n",
    "            category_path = f'/html/body/div[1]/div/section/div[2]/div/section[1]/div/ul/li[{i}]/h3'\n",
    "            info_job_path = f'/html/body/div[1]/div/section/div[2]/div/section[1]/div/ul/li[{i}]/span'\n",
    "            category = browser.find_element_by_xpath(category_path).get_attribute('innerText')\n",
    "            info_job = browser.find_element_by_xpath(info_job_path).get_attribute('innerText')\n",
    "        except:\n",
    "            continue\n",
    "        \n",
    "        if category == 'Nível de experiência':\n",
    "            seniority0 = info_job\n",
    "        \n",
    "        if category == 'Tipo de emprego':\n",
    "            emp_type0 = info_job\n",
    "        \n",
    "        if category == 'Função':\n",
    "            job_func_elements0 = info_job\n",
    "        \n",
    "        if category == 'Setores':\n",
    "            industries_elements = info_job\n",
    "\n",
    "    try:\n",
    "        seniority.append(seniority0)\n",
    "        step_check.append('seniority ok')\n",
    "    except:\n",
    "        seniority.append('não declarado')\n",
    "        step_check.append('seniority ok')\n",
    "        \n",
    "    try:\n",
    "        emp_type.append(emp_type0)\n",
    "        step_check.append('type ok')\n",
    "    except:\n",
    "        emp_type.append('não declarado')\n",
    "        step_check.append('type ok')\n",
    "    \n",
    "    try:\n",
    "        job_func.append(job_func_elements0)\n",
    "        step_check.append('job_func ok')\n",
    "    except:\n",
    "        job_func.append('não declarado')\n",
    "        step_check.append('job_func ok')\n",
    "           \n",
    "    try:\n",
    "        industries.append(industries_elements)\n",
    "        step_check.append('industries ok')\n",
    "    except:\n",
    "        industries.append('não declarado')\n",
    "        step_check.append('industries ok')\n",
    "    \n",
    "    if step_check != ['click ok', 'jd ok', 'seniority ok', 'type ok', 'job_func ok', 'industries ok']:\n",
    "        print(step_check)\n",
    "        print(f'Problem with step {item}')\n",
    "        break\n",
    "\n",
    "    step_check = []"
   ]
  },
  {
   "cell_type": "code",
   "execution_count": 9,
   "metadata": {},
   "outputs": [
    {
     "name": "stdout",
     "output_type": "stream",
     "text": [
      "125\n",
      "Analista de Dados\n",
      "Definite\n"
     ]
    }
   ],
   "source": [
    "print(len(jd))\n",
    "print(job_title[101])\n",
    "print(company_name[101])"
   ]
  },
  {
   "cell_type": "code",
   "execution_count": 10,
   "metadata": {},
   "outputs": [
    {
     "name": "stdout",
     "output_type": "stream",
     "text": [
      "jd size list is 125\n",
      "seniority size list is 125\n",
      "emp_type size list is 125\n",
      "job_func size list is 125\n",
      "industries size list is 125\n"
     ]
    }
   ],
   "source": [
    "print(f'jd size list is {len(jd)}')\n",
    "print(f'seniority size list is {len(seniority)}')\n",
    "print(f'emp_type size list is {len(emp_type)}')\n",
    "print(f'job_func size list is {len(job_func)}')\n",
    "print(f'industries size list is {len(industries)}')"
   ]
  },
  {
   "cell_type": "code",
   "execution_count": 11,
   "metadata": {},
   "outputs": [],
   "source": [
    "job_data =pd.DataFrame({\n",
    "    'Data': date,\n",
    "    'Empresa': company_name,\n",
    "    'Título': job_title,\n",
    "    'Local': location,\n",
    "    'Descrição': jd,\n",
    "    'Nível': seniority,\n",
    "    'Tipo': emp_type,\n",
    "    'Função': job_func,\n",
    "    'Industria': industries,\n",
    "    'Link': job_link\n",
    "})"
   ]
  },
  {
   "cell_type": "code",
   "execution_count": 12,
   "metadata": {},
   "outputs": [],
   "source": [
    "job_data.to_csv('job_data_2.csv', index = False, header=True)"
   ]
  },
  {
   "cell_type": "code",
   "execution_count": null,
   "metadata": {},
   "outputs": [],
   "source": []
  },
  {
   "cell_type": "code",
   "execution_count": null,
   "metadata": {},
   "outputs": [],
   "source": []
  },
  {
   "cell_type": "code",
   "execution_count": 13,
   "metadata": {},
   "outputs": [],
   "source": [
    "#     seniority_path = 'li:nth-child(1) > span'\n",
    "#     seniority0 = bowser.find_element_by_css_selector(seniority_path).get_attribute('innerText')\n",
    "#     seniority.append(seniority0)\n",
    "#     print('Step c ok')\n",
    " \n",
    "#     emp_type_path = '/html/body/div[1]/div/section/div[2]/section[2]/ul/li[2]/span'\n",
    "#     emp_type0 = job.find_element_by_xpath(emp_type_path).get_attribute('innerText')\n",
    "#     emp_type.append(emp_type0)\n",
    "#     print('Step d ok')\n",
    " \n",
    "#     job_func_path = '/html/body/div[1]/div/section/div[2]/section[2]/ul/li[3]/span'\n",
    "#     job_func_elements = job.find_elements_by_xpath(job_func_path)\n",
    "#     print('Step e ok')\n",
    "\n",
    "#     for element in job_func_elements:\n",
    "#         job_func0.append(element.get_attribute('innerText'))\n",
    "#         job_func_final = ', '.join(job_func0)\n",
    "#         job_func.append(job_func_final)\n",
    "\n",
    "# industries_path = '/html/body/main/section/div[2]/section[2]/ul/li[4]/span'\n",
    "# industries_elements = job.find_elements_by_xpath(industries_path)"
   ]
  },
  {
   "cell_type": "code",
   "execution_count": null,
   "metadata": {},
   "outputs": [],
   "source": []
  },
  {
   "cell_type": "code",
   "execution_count": null,
   "metadata": {},
   "outputs": [],
   "source": []
  },
  {
   "cell_type": "code",
   "execution_count": null,
   "metadata": {},
   "outputs": [],
   "source": []
  },
  {
   "cell_type": "code",
   "execution_count": null,
   "metadata": {},
   "outputs": [],
   "source": []
  },
  {
   "cell_type": "code",
   "execution_count": null,
   "metadata": {},
   "outputs": [],
   "source": []
  },
  {
   "cell_type": "code",
   "execution_count": null,
   "metadata": {},
   "outputs": [],
   "source": []
  }
 ],
 "metadata": {
  "kernelspec": {
   "display_name": "Python 3",
   "language": "python",
   "name": "python3"
  },
  "language_info": {
   "codemirror_mode": {
    "name": "ipython",
    "version": 3
   },
   "file_extension": ".py",
   "mimetype": "text/x-python",
   "name": "python",
   "nbconvert_exporter": "python",
   "pygments_lexer": "ipython3",
   "version": "3.8.8"
  }
 },
 "nbformat": 4,
 "nbformat_minor": 4
}
