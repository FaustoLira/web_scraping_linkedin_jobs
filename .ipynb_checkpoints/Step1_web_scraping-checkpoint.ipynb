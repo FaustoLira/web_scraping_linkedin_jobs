{
 "cells": [
  {
   "cell_type": "markdown",
   "metadata": {},
   "source": [
    "# LinkedIn Web Scraping\n",
    "\n",
    "This Jupyter Notebook file is dedicated to extracting data from job offers from the Linkedin website. The focus is to search for Data Analyst opportunities only."
   ]
  },
  {
   "cell_type": "code",
   "execution_count": 1,
   "metadata": {},
   "outputs": [],
   "source": [
    "# packages\n",
    "import pandas as pd\n",
    "import re # regular expressins\n",
    "from selenium import webdriver\n",
    "from selenium.webdriver.common.keys import Keys\n",
    "import time"
   ]
  },
  {
   "cell_type": "code",
   "execution_count": 2,
   "metadata": {},
   "outputs": [],
   "source": [
    "# some global variables\n",
    "\n",
    "# inputation\n",
    "type_job = 'data analyst'\n",
    "location = 'United States'"
   ]
  },
  {
   "cell_type": "code",
   "execution_count": 3,
   "metadata": {},
   "outputs": [],
   "source": [
    "# creating a browser object\n",
    "path = 'C:/Users/faust/chrome-win32/chromedriver.exe'\n",
    "\n",
    "options = webdriver.ChromeOptions()\n",
    "options.add_argument('--incognito')\n",
    "options.add_argument('--start-maximized')\n",
    "\n",
    "browser = webdriver.Chrome(path, options=options)\n",
    "browser.get('https://www.linkedin.com/jobs') "
   ]
  },
  {
   "cell_type": "code",
   "execution_count": 4,
   "metadata": {
    "tags": []
   },
   "outputs": [],
   "source": [
    "# Open job's page and search jobs\n",
    "\n",
    "# job search\n",
    "browser.find_element_by_xpath('/html/body/main/section[2]/div[2]/ul/li[3]/a').click()\n",
    "browser.find_element_by_xpath('/html/body/header/nav/ul/li[4]/a').click()\n",
    "\n",
    "# choose the option jobs\n",
    "browser.find_element_by_xpath('/html/body/div/header/nav/section/div[1]/button').click()\n",
    "# browser.find_element_by_xpath('/html/body/div[1]/header/nav/section/div[1]/div[2]').click()\n",
    "\n",
    "# type job type\n",
    "browser.find_element_by_xpath('/html/body/div[1]/header/nav/section/section[2]/form/section[1]').click()\n",
    "job_search = browser.find_element_by_xpath('/html/body/div[1]/header/nav/section/section[2]/form/section[1]/input')\n",
    "job_search.send_keys(type_job)\n",
    "\n",
    "# type location\n",
    "browser.find_element_by_xpath('/html/body/div[1]/header/nav/section/section[2]/form/section[2]/button').click()\n",
    "browser.find_element_by_xpath('/html/body/div[1]/header/nav/section/section[2]/form/section[2]').click()\n",
    "location_search = browser.find_element_by_xpath('/html/body/div[1]/header/nav/section/section[2]/form/section[2]/input')\n",
    "location_search.send_keys(location)\n",
    "\n",
    "# click on search\n",
    "browser.find_element_by_xpath('/html/body/div[1]/header/nav/section/section[2]/form/button').click()"
   ]
  },
  {
   "cell_type": "code",
   "execution_count": 5,
   "metadata": {},
   "outputs": [],
   "source": [
    "# dectecting all jobs\n",
    "for i in range(100):    \n",
    "    browser.execute_script(\"window.scrollTo(0,0)\")\n",
    "    browser.execute_script(\"window.scrollTo(0,document.body.scrollHeight)\")\n",
    "    try:\n",
    "#       click in the button \"See more jobs\"\n",
    "        browser.find_element_by_xpath('/html/body/div[1]/div/main/section[2]/button').click()\n",
    "    except:\n",
    "        pass\n",
    "    time.sleep(3)"
   ]
  },
  {
   "cell_type": "code",
   "execution_count": 6,
   "metadata": {},
   "outputs": [
    {
     "name": "stdout",
     "output_type": "stream",
     "text": [
      "We consider 1000 job offers.\n"
     ]
    }
   ],
   "source": [
    "# find the number of jobs\n",
    "job_lists = browser.find_element_by_class_name('jobs-search__results-list')\n",
    "jobs = list(job_lists.find_elements_by_tag_name('li')) # return a list\n",
    "num_of_jobs = len(jobs)\n",
    "print(f'We consider {num_of_jobs} job offers.')"
   ]
  },
  {
   "cell_type": "code",
   "execution_count": 7,
   "metadata": {},
   "outputs": [],
   "source": [
    "# load job datails into DataFrame\n",
    "job_id= []\n",
    "job_title = []\n",
    "company_name = []\n",
    "location = []\n",
    "date = []\n",
    "job_link = []\n",
    "\n",
    "for i in range(num_of_jobs):\n",
    "# for job in jobs:\n",
    " \n",
    "    job_title0 = jobs[i].find_element_by_css_selector('h3').get_attribute('innerText')\n",
    "    job_title.append(job_title0)\n",
    " \n",
    "    company_name0 = jobs[i].find_element_by_css_selector('h4').get_attribute('innerText')\n",
    "    company_name.append(company_name0)\n",
    " \n",
    "    meta_data = jobs[i].find_element_by_class_name('base-search-card__metadata')\n",
    "    location0 = meta_data.find_element_by_class_name('job-search-card__location').get_attribute('innerText')\n",
    "    location.append(location0)\n",
    " \n",
    "    date0 = jobs[i].find_element_by_css_selector('div>div>time').get_attribute('datetime')\n",
    "    date.append(date0)\n",
    " \n",
    "    job_link0 = jobs[i].find_element_by_css_selector('a').get_attribute('href')\n",
    "    job_link.append(job_link0)"
   ]
  },
  {
   "cell_type": "code",
   "execution_count": 8,
   "metadata": {},
   "outputs": [
    {
     "name": "stdout",
     "output_type": "stream",
     "text": [
      "job_title size list is 1000\n",
      "company_name size list is 1000\n",
      "location size list is 1000\n",
      "date size list is 1000\n",
      "job_link size list is 1000\n"
     ]
    }
   ],
   "source": [
    "# print(f'job_id size list is {len(job_id)}')\n",
    "print(f'job_title size list is {len(job_title)}')\n",
    "print(f'company_name size list is {len(company_name)}')\n",
    "print(f'location size list is {len(location)}')\n",
    "print(f'date size list is {len(date)}')\n",
    "print(f'job_link size list is {len(job_link)}')"
   ]
  },
  {
   "cell_type": "code",
   "execution_count": 9,
   "metadata": {},
   "outputs": [],
   "source": [
    "# extract data from each job offer. \n",
    "jd = []\n",
    "seniority = []\n",
    "emp_type = []\n",
    "job_func = []\n",
    "industries = []\n",
    "\n",
    "step_check = []\n",
    "\n",
    "for item in range(1, num_of_jobs+1):\n",
    "    \n",
    "    job_func0=[]\n",
    "    industries0=[]\n",
    "    # clicking job to view job details\n",
    "    job_click_path_list = [\n",
    "        f'//*[@id=\"main-content\"]/section[2]/ul/li[{item}]/div/a',\n",
    "        f'//*[@id=\"main-content\"]/section[2]/ul/li[{item}]/a/div[2]/h3'\n",
    "    ]\n",
    "    for i in range(len(job_click_path_list)):\n",
    "        try:\n",
    "            job_click = browser.find_element_by_xpath(job_click_path_list[i]).click()\n",
    "            step_check.append('click ok')\n",
    "            break\n",
    "        except:\n",
    "            continue\n",
    "    \n",
    "    time.sleep(5) \n",
    "    \n",
    "    # obtain the job description (if it does not exist, skip to the next job offer)\n",
    "    jd_path_list = [\n",
    "        '/html/body/div[1]/div/section/div[2]/div/section[1]/div/div/section/div',\n",
    "        '/html/body/div[1]/div/section/div[2]/div[1]/section[1]/div/div/section/div',\n",
    "        '/html/body/div[1]/div/section/div[2]/div/section[2]/div/div/section/div'\n",
    "    ]\n",
    "    for i in range(len(jd_path_list)):\n",
    "        try:\n",
    "            jd0 = browser.find_element_by_xpath(jd_path_list[i]).get_attribute('innerText')\n",
    "            jd.append(jd0)\n",
    "            step_check.append('jd ok')\n",
    "            break\n",
    "        except:\n",
    "            continue\n",
    "    \n",
    "    # add seniority, job type, job function, industries\n",
    "    for i in range(1,5):\n",
    "        try:\n",
    "            category_path = f'/html/body/div[1]/div/section/div[2]/div/section[1]/div/ul/li[{i}]/h3'\n",
    "            info_job_path = f'/html/body/div[1]/div/section/div[2]/div/section[1]/div/ul/li[{i}]/span'\n",
    "            category = browser.find_element_by_xpath(category_path).get_attribute('innerText')\n",
    "            info_job = browser.find_element_by_xpath(info_job_path).get_attribute('innerText')\n",
    "        except:\n",
    "            continue\n",
    "        \n",
    "        if category == 'Seniority level':\n",
    "            seniority0 = info_job\n",
    "        \n",
    "        if category == 'Employment type':\n",
    "            emp_type0 = info_job\n",
    "        \n",
    "        if category == 'Job function':\n",
    "            job_func_elements0 = info_job\n",
    "        \n",
    "        if category == 'Industries':\n",
    "            industries_elements = info_job\n",
    "\n",
    "    try:\n",
    "        seniority.append(seniority0)\n",
    "        step_check.append('seniority ok')\n",
    "    except:\n",
    "        seniority.append('unknown')\n",
    "        step_check.append('seniority ok')\n",
    "        \n",
    "    try:\n",
    "        emp_type.append(emp_type0)\n",
    "        step_check.append('type ok')\n",
    "    except:\n",
    "        emp_type.append('unknown')\n",
    "        step_check.append('type ok')\n",
    "    \n",
    "    try:\n",
    "        job_func.append(job_func_elements0)\n",
    "        step_check.append('job_func ok')\n",
    "    except:\n",
    "        job_func.append('unknown')\n",
    "        step_check.append('job_func ok')\n",
    "           \n",
    "    try:\n",
    "        industries.append(industries_elements)\n",
    "        step_check.append('industries ok')\n",
    "    except:\n",
    "        industries.append('unknown')\n",
    "        step_check.append('industries ok')\n",
    "    \n",
    "    if step_check != ['click ok', 'jd ok', 'seniority ok', 'type ok', 'job_func ok', 'industries ok']:\n",
    "        print(step_check)\n",
    "        print(f'Problem with step {item}')\n",
    "        break\n",
    "\n",
    "    step_check = []"
   ]
  },
  {
   "cell_type": "code",
   "execution_count": 10,
   "metadata": {},
   "outputs": [
    {
     "name": "stdout",
     "output_type": "stream",
     "text": [
      "1000\n"
     ]
    }
   ],
   "source": [
    "print(len(jd))"
   ]
  },
  {
   "cell_type": "code",
   "execution_count": 11,
   "metadata": {},
   "outputs": [
    {
     "name": "stdout",
     "output_type": "stream",
     "text": [
      "jd size list is 1000\n",
      "seniority size list is 1000\n",
      "emp_type size list is 1000\n",
      "job_func size list is 1000\n",
      "industries size list is 1000\n"
     ]
    }
   ],
   "source": [
    "print(f'jd size list is {len(jd)}')\n",
    "print(f'seniority size list is {len(seniority)}')\n",
    "print(f'emp_type size list is {len(emp_type)}')\n",
    "print(f'job_func size list is {len(job_func)}')\n",
    "print(f'industries size list is {len(industries)}')"
   ]
  },
  {
   "cell_type": "code",
   "execution_count": 12,
   "metadata": {},
   "outputs": [],
   "source": [
    "job_data =pd.DataFrame({\n",
    "    'Date': date,\n",
    "    'Company': company_name,\n",
    "    'Job Title': job_title,\n",
    "    'Location': location,\n",
    "    'Description': jd,\n",
    "    'Seniority': seniority,\n",
    "    'Type': emp_type,\n",
    "    'Job Function': job_func,\n",
    "    'Industry': industries,\n",
    "    'Link': job_link\n",
    "})"
   ]
  },
  {
   "cell_type": "code",
   "execution_count": 13,
   "metadata": {},
   "outputs": [],
   "source": [
    "job_data.to_csv('job_data.csv', index = False, header=True)"
   ]
  }
 ],
 "metadata": {
  "kernelspec": {
   "display_name": "Python 3 (ipykernel)",
   "language": "python",
   "name": "python3"
  },
  "language_info": {
   "codemirror_mode": {
    "name": "ipython",
    "version": 3
   },
   "file_extension": ".py",
   "mimetype": "text/x-python",
   "name": "python",
   "nbconvert_exporter": "python",
   "pygments_lexer": "ipython3",
   "version": "3.10.9"
  }
 },
 "nbformat": 4,
 "nbformat_minor": 4
}
