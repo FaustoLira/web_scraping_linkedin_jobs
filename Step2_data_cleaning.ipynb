{
 "cells": [
  {
   "cell_type": "markdown",
   "id": "a0251aad-c4f9-4f67-98c5-e5aa0da176b8",
   "metadata": {
    "tags": []
   },
   "source": [
    "# Exploratory data analysis and Clean the Data"
   ]
  },
  {
   "cell_type": "code",
   "execution_count": 1,
   "id": "3eccd6d8-69c0-487d-b506-a44efff27231",
   "metadata": {},
   "outputs": [],
   "source": [
    "# packages\n",
    "import pandas as pd\n",
    "import numpy as np\n",
    "import matplotlib.pyplot as plt\n",
    "import seaborn as sns"
   ]
  },
  {
   "cell_type": "code",
   "execution_count": 4,
   "id": "be559700-e00c-4f5a-aeb7-8fb834801e76",
   "metadata": {},
   "outputs": [],
   "source": [
    "# loading the data and droping possible duplicates\n",
    "data = pd.read_csv('job_data.csv')"
   ]
  },
  {
   "cell_type": "code",
   "execution_count": 5,
   "id": "730649f4-f3b5-43dc-86a0-57b663a61c74",
   "metadata": {},
   "outputs": [
    {
     "data": {
      "text/plain": [
       "(1000, 10)"
      ]
     },
     "execution_count": 5,
     "metadata": {},
     "output_type": "execute_result"
    }
   ],
   "source": [
    "data.shape"
   ]
  },
  {
   "cell_type": "code",
   "execution_count": 6,
   "id": "f02207cb-45d7-4951-b55a-1d4ef1feb1f8",
   "metadata": {},
   "outputs": [
    {
     "data": {
      "text/html": [
       "<div>\n",
       "<style scoped>\n",
       "    .dataframe tbody tr th:only-of-type {\n",
       "        vertical-align: middle;\n",
       "    }\n",
       "\n",
       "    .dataframe tbody tr th {\n",
       "        vertical-align: top;\n",
       "    }\n",
       "\n",
       "    .dataframe thead th {\n",
       "        text-align: right;\n",
       "    }\n",
       "</style>\n",
       "<table border=\"1\" class=\"dataframe\">\n",
       "  <thead>\n",
       "    <tr style=\"text-align: right;\">\n",
       "      <th></th>\n",
       "      <th>Date</th>\n",
       "      <th>Company</th>\n",
       "      <th>Job Title</th>\n",
       "      <th>Location</th>\n",
       "      <th>Description</th>\n",
       "      <th>Seniority</th>\n",
       "      <th>Type</th>\n",
       "      <th>Job Function</th>\n",
       "      <th>Industry</th>\n",
       "      <th>Link</th>\n",
       "    </tr>\n",
       "  </thead>\n",
       "  <tbody>\n",
       "    <tr>\n",
       "      <th>0</th>\n",
       "      <td>2023-07-13</td>\n",
       "      <td>McKinney</td>\n",
       "      <td>Data Analyst</td>\n",
       "      <td>Phoenix, AZ</td>\n",
       "      <td>Job Responsibilities\\r\\n\\r\\n\\r\\n\\r\\n\\r\\nThe Da...</td>\n",
       "      <td>Entry level</td>\n",
       "      <td>Full-time</td>\n",
       "      <td>Information Technology</td>\n",
       "      <td>Technology, Information and Internet</td>\n",
       "      <td>https://www.linkedin.com/jobs/view/data-analys...</td>\n",
       "    </tr>\n",
       "    <tr>\n",
       "      <th>1</th>\n",
       "      <td>2023-07-18</td>\n",
       "      <td>January Digital</td>\n",
       "      <td>Data Analyst</td>\n",
       "      <td>New York, NY</td>\n",
       "      <td>About January Digital\\r\\n\\r\\n\\r\\n\\r\\n\\r\\nJanua...</td>\n",
       "      <td>Entry level</td>\n",
       "      <td>Full-time</td>\n",
       "      <td>Information Technology</td>\n",
       "      <td>Technology, Information and Internet</td>\n",
       "      <td>https://www.linkedin.com/jobs/view/data-analys...</td>\n",
       "    </tr>\n",
       "    <tr>\n",
       "      <th>2</th>\n",
       "      <td>2023-07-20</td>\n",
       "      <td>Holovis</td>\n",
       "      <td>Data Analyst</td>\n",
       "      <td>Orlando, FL</td>\n",
       "      <td>Role Purpose\\r\\n\\r\\nDesign, develop, and imple...</td>\n",
       "      <td>Associate</td>\n",
       "      <td>Full-time</td>\n",
       "      <td>Information Technology</td>\n",
       "      <td>Entertainment Providers</td>\n",
       "      <td>https://www.linkedin.com/jobs/view/data-analys...</td>\n",
       "    </tr>\n",
       "    <tr>\n",
       "      <th>3</th>\n",
       "      <td>2023-07-18</td>\n",
       "      <td>Pura</td>\n",
       "      <td>Data Analyst</td>\n",
       "      <td>Pleasant Grove, UT</td>\n",
       "      <td>Pura, based in Pleasant Grove, UT, has been re...</td>\n",
       "      <td>Mid-Senior level</td>\n",
       "      <td>Full-time</td>\n",
       "      <td>Information Technology</td>\n",
       "      <td>Internet Publishing</td>\n",
       "      <td>https://www.linkedin.com/jobs/view/data-analys...</td>\n",
       "    </tr>\n",
       "    <tr>\n",
       "      <th>4</th>\n",
       "      <td>2023-07-28</td>\n",
       "      <td>Tablet Hotels</td>\n",
       "      <td>Data Analyst</td>\n",
       "      <td>New York, United States</td>\n",
       "      <td>Tablet is how you book the world’s most exciti...</td>\n",
       "      <td>Entry level</td>\n",
       "      <td>Full-time</td>\n",
       "      <td>Information Technology</td>\n",
       "      <td>Technology, Information and Internet</td>\n",
       "      <td>https://www.linkedin.com/jobs/view/data-analys...</td>\n",
       "    </tr>\n",
       "  </tbody>\n",
       "</table>\n",
       "</div>"
      ],
      "text/plain": [
       "         Date          Company     Job Title                 Location  \\\n",
       "0  2023-07-13         McKinney  Data Analyst              Phoenix, AZ   \n",
       "1  2023-07-18  January Digital  Data Analyst             New York, NY   \n",
       "2  2023-07-20          Holovis  Data Analyst              Orlando, FL   \n",
       "3  2023-07-18             Pura  Data Analyst       Pleasant Grove, UT   \n",
       "4  2023-07-28    Tablet Hotels  Data Analyst  New York, United States   \n",
       "\n",
       "                                         Description         Seniority  \\\n",
       "0  Job Responsibilities\\r\\n\\r\\n\\r\\n\\r\\n\\r\\nThe Da...       Entry level   \n",
       "1  About January Digital\\r\\n\\r\\n\\r\\n\\r\\n\\r\\nJanua...       Entry level   \n",
       "2  Role Purpose\\r\\n\\r\\nDesign, develop, and imple...         Associate   \n",
       "3  Pura, based in Pleasant Grove, UT, has been re...  Mid-Senior level   \n",
       "4  Tablet is how you book the world’s most exciti...       Entry level   \n",
       "\n",
       "        Type            Job Function                              Industry  \\\n",
       "0  Full-time  Information Technology  Technology, Information and Internet   \n",
       "1  Full-time  Information Technology  Technology, Information and Internet   \n",
       "2  Full-time  Information Technology               Entertainment Providers   \n",
       "3  Full-time  Information Technology                   Internet Publishing   \n",
       "4  Full-time  Information Technology  Technology, Information and Internet   \n",
       "\n",
       "                                                Link  \n",
       "0  https://www.linkedin.com/jobs/view/data-analys...  \n",
       "1  https://www.linkedin.com/jobs/view/data-analys...  \n",
       "2  https://www.linkedin.com/jobs/view/data-analys...  \n",
       "3  https://www.linkedin.com/jobs/view/data-analys...  \n",
       "4  https://www.linkedin.com/jobs/view/data-analys...  "
      ]
     },
     "execution_count": 6,
     "metadata": {},
     "output_type": "execute_result"
    }
   ],
   "source": [
    "data.head()"
   ]
  },
  {
   "cell_type": "markdown",
   "id": "7096cb78-3df2-4412-83eb-2e91dae44d6c",
   "metadata": {},
   "source": [
    "## Check for Null Values and Duplicates"
   ]
  },
  {
   "cell_type": "code",
   "execution_count": 7,
   "id": "3ac1caec-9a9f-45a8-a3dd-e7b5a14afff7",
   "metadata": {},
   "outputs": [
    {
     "data": {
      "text/plain": [
       "Date            0\n",
       "Company         0\n",
       "Job Title       0\n",
       "Location        0\n",
       "Description     0\n",
       "Seniority       0\n",
       "Type            0\n",
       "Job Function    0\n",
       "Industry        0\n",
       "Link            0\n",
       "dtype: int64"
      ]
     },
     "execution_count": 7,
     "metadata": {},
     "output_type": "execute_result"
    }
   ],
   "source": [
    "data.isnull().sum()"
   ]
  },
  {
   "cell_type": "raw",
   "id": "43265023-1b50-4fc0-bf0f-62c622e62a11",
   "metadata": {},
   "source": [
    "There are no null values in the dataset."
   ]
  },
  {
   "cell_type": "code",
   "execution_count": 8,
   "id": "7cf1fb7f-2e1e-4bc8-be5f-e341978d9382",
   "metadata": {},
   "outputs": [],
   "source": [
    "data.drop_duplicates(inplace=True)"
   ]
  },
  {
   "cell_type": "code",
   "execution_count": 9,
   "id": "61ff4537-1088-49dc-8034-87ff052f9073",
   "metadata": {},
   "outputs": [
    {
     "data": {
      "text/plain": [
       "(1000, 10)"
      ]
     },
     "execution_count": 9,
     "metadata": {},
     "output_type": "execute_result"
    }
   ],
   "source": [
    "data.shape"
   ]
  },
  {
   "cell_type": "markdown",
   "id": "62db8691-9a1e-40d4-b205-af41abc3720b",
   "metadata": {},
   "source": [
    "## Selecting the columns needed for analysis\n",
    "\n",
    "The columns needed are: Date, Job Title, Location, Description and Seniority\t"
   ]
  },
  {
   "cell_type": "code",
   "execution_count": 10,
   "id": "00d08eab-86a6-4bfc-8c9b-157ac6a516d2",
   "metadata": {},
   "outputs": [],
   "source": [
    "# selecting only the columns of interest\n",
    "columns = ['Date', 'Job Title', 'Location', 'Description', 'Seniority']\n",
    "data = data[columns]"
   ]
  },
  {
   "cell_type": "code",
   "execution_count": 11,
   "id": "63f0fb24-6f97-4dd8-af43-16d8bea1e104",
   "metadata": {},
   "outputs": [
    {
     "data": {
      "text/html": [
       "<div>\n",
       "<style scoped>\n",
       "    .dataframe tbody tr th:only-of-type {\n",
       "        vertical-align: middle;\n",
       "    }\n",
       "\n",
       "    .dataframe tbody tr th {\n",
       "        vertical-align: top;\n",
       "    }\n",
       "\n",
       "    .dataframe thead th {\n",
       "        text-align: right;\n",
       "    }\n",
       "</style>\n",
       "<table border=\"1\" class=\"dataframe\">\n",
       "  <thead>\n",
       "    <tr style=\"text-align: right;\">\n",
       "      <th></th>\n",
       "      <th>Date</th>\n",
       "      <th>Job Title</th>\n",
       "      <th>Location</th>\n",
       "      <th>Description</th>\n",
       "      <th>Seniority</th>\n",
       "    </tr>\n",
       "  </thead>\n",
       "  <tbody>\n",
       "    <tr>\n",
       "      <th>0</th>\n",
       "      <td>2023-07-13</td>\n",
       "      <td>Data Analyst</td>\n",
       "      <td>Phoenix, AZ</td>\n",
       "      <td>Job Responsibilities\\r\\n\\r\\n\\r\\n\\r\\n\\r\\nThe Da...</td>\n",
       "      <td>Entry level</td>\n",
       "    </tr>\n",
       "    <tr>\n",
       "      <th>1</th>\n",
       "      <td>2023-07-18</td>\n",
       "      <td>Data Analyst</td>\n",
       "      <td>New York, NY</td>\n",
       "      <td>About January Digital\\r\\n\\r\\n\\r\\n\\r\\n\\r\\nJanua...</td>\n",
       "      <td>Entry level</td>\n",
       "    </tr>\n",
       "    <tr>\n",
       "      <th>2</th>\n",
       "      <td>2023-07-20</td>\n",
       "      <td>Data Analyst</td>\n",
       "      <td>Orlando, FL</td>\n",
       "      <td>Role Purpose\\r\\n\\r\\nDesign, develop, and imple...</td>\n",
       "      <td>Associate</td>\n",
       "    </tr>\n",
       "    <tr>\n",
       "      <th>3</th>\n",
       "      <td>2023-07-18</td>\n",
       "      <td>Data Analyst</td>\n",
       "      <td>Pleasant Grove, UT</td>\n",
       "      <td>Pura, based in Pleasant Grove, UT, has been re...</td>\n",
       "      <td>Mid-Senior level</td>\n",
       "    </tr>\n",
       "    <tr>\n",
       "      <th>4</th>\n",
       "      <td>2023-07-28</td>\n",
       "      <td>Data Analyst</td>\n",
       "      <td>New York, United States</td>\n",
       "      <td>Tablet is how you book the world’s most exciti...</td>\n",
       "      <td>Entry level</td>\n",
       "    </tr>\n",
       "  </tbody>\n",
       "</table>\n",
       "</div>"
      ],
      "text/plain": [
       "         Date     Job Title                 Location  \\\n",
       "0  2023-07-13  Data Analyst              Phoenix, AZ   \n",
       "1  2023-07-18  Data Analyst             New York, NY   \n",
       "2  2023-07-20  Data Analyst              Orlando, FL   \n",
       "3  2023-07-18  Data Analyst       Pleasant Grove, UT   \n",
       "4  2023-07-28  Data Analyst  New York, United States   \n",
       "\n",
       "                                         Description         Seniority  \n",
       "0  Job Responsibilities\\r\\n\\r\\n\\r\\n\\r\\n\\r\\nThe Da...       Entry level  \n",
       "1  About January Digital\\r\\n\\r\\n\\r\\n\\r\\n\\r\\nJanua...       Entry level  \n",
       "2  Role Purpose\\r\\n\\r\\nDesign, develop, and imple...         Associate  \n",
       "3  Pura, based in Pleasant Grove, UT, has been re...  Mid-Senior level  \n",
       "4  Tablet is how you book the world’s most exciti...       Entry level  "
      ]
     },
     "execution_count": 11,
     "metadata": {},
     "output_type": "execute_result"
    }
   ],
   "source": [
    "data.head()"
   ]
  },
  {
   "cell_type": "code",
   "execution_count": 12,
   "id": "8bad7c1e-6735-4368-94a1-737741d62a0c",
   "metadata": {},
   "outputs": [
    {
     "data": {
      "text/plain": [
       "Date           0\n",
       "Job Title      0\n",
       "Location       0\n",
       "Description    0\n",
       "Seniority      0\n",
       "dtype: int64"
      ]
     },
     "execution_count": 12,
     "metadata": {},
     "output_type": "execute_result"
    }
   ],
   "source": [
    "# null values for each column\n",
    "data.isnull().sum()"
   ]
  },
  {
   "cell_type": "markdown",
   "id": "bda73013-9ff1-47d7-85a2-6a2f78f8ff6c",
   "metadata": {},
   "source": [
    "## Cleaning the \"Date\" column"
   ]
  },
  {
   "cell_type": "code",
   "execution_count": 13,
   "id": "f3de85d7-eafa-4794-8aa5-21fa50ac399f",
   "metadata": {},
   "outputs": [
    {
     "data": {
      "text/plain": [
       "dtype('O')"
      ]
     },
     "execution_count": 13,
     "metadata": {},
     "output_type": "execute_result"
    }
   ],
   "source": [
    "data['Date'].dtype"
   ]
  },
  {
   "cell_type": "code",
   "execution_count": 14,
   "id": "69847945-0fd6-42bf-b1df-a6cc1230ce9a",
   "metadata": {},
   "outputs": [],
   "source": [
    "# converting the column \"Date\" to datetime\n",
    "data['Date'] = pd.to_datetime(data['Date'])"
   ]
  },
  {
   "cell_type": "code",
   "execution_count": 15,
   "id": "0aa9e1de-160c-43d2-96d4-6703a241e20f",
   "metadata": {},
   "outputs": [
    {
     "data": {
      "text/plain": [
       "dtype('<M8[ns]')"
      ]
     },
     "execution_count": 15,
     "metadata": {},
     "output_type": "execute_result"
    }
   ],
   "source": [
    "data['Date'].dtype"
   ]
  },
  {
   "cell_type": "code",
   "execution_count": 16,
   "id": "8a694ae2-7ce7-4d62-b4a1-c1101ebd6285",
   "metadata": {},
   "outputs": [
    {
     "data": {
      "text/plain": [
       "Date\n",
       "2023-01-16      1\n",
       "2023-02-10      1\n",
       "2023-03-09      1\n",
       "2023-04-24      1\n",
       "2023-04-26      1\n",
       "2023-06-06      2\n",
       "2023-06-15      1\n",
       "2023-06-28      2\n",
       "2023-07-06      1\n",
       "2023-07-07     10\n",
       "2023-07-08      5\n",
       "2023-07-09      4\n",
       "2023-07-10     21\n",
       "2023-07-11     52\n",
       "2023-07-12     32\n",
       "2023-07-13     17\n",
       "2023-07-14     33\n",
       "2023-07-15     13\n",
       "2023-07-16      8\n",
       "2023-07-17     49\n",
       "2023-07-18     46\n",
       "2023-07-19     27\n",
       "2023-07-20     73\n",
       "2023-07-21     44\n",
       "2023-07-22     26\n",
       "2023-07-23      6\n",
       "2023-07-24     41\n",
       "2023-07-25     72\n",
       "2023-07-26     58\n",
       "2023-07-27     66\n",
       "2023-07-28     54\n",
       "2023-07-29     32\n",
       "2023-07-30      9\n",
       "2023-07-31     45\n",
       "2023-08-01     14\n",
       "2023-08-02      5\n",
       "2023-08-03      8\n",
       "2023-08-04     18\n",
       "2023-08-05    101\n",
       "Name: count, dtype: int64"
      ]
     },
     "execution_count": 16,
     "metadata": {},
     "output_type": "execute_result"
    }
   ],
   "source": [
    "# check the range of dates\n",
    "data['Date'].value_counts().sort_index()"
   ]
  },
  {
   "cell_type": "code",
   "execution_count": 17,
   "id": "5424aac6-d98a-492b-af41-199983ed5b47",
   "metadata": {},
   "outputs": [
    {
     "data": {
      "image/png": "[encoded data removed]",
      "text/plain": [
       "<Figure size 640x480 with 1 Axes>"
      ]
     },
     "metadata": {},
     "output_type": "display_data"
    }
   ],
   "source": [
    "sns.set_style('darkgrid')\n",
    "plt.hist(data['Date'], bins=40)\n",
    "plt.title('Date Distribution')\n",
    "plt.show()"
   ]
  },
  {
   "cell_type": "markdown",
   "id": "e315478d-67f5-4667-9084-4b6f0bceddda",
   "metadata": {},
   "source": [
    "As we can see, most job opportunities are between 2023-07 and 2023-08."
   ]
  },
  {
   "cell_type": "code",
   "execution_count": 18,
   "id": "df50cfe5-1bfe-4fc7-bf50-2d9234d3d9a3",
   "metadata": {},
   "outputs": [
    {
     "data": {
      "text/plain": [
       "Timedelta('201 days 00:00:00')"
      ]
     },
     "execution_count": 18,
     "metadata": {},
     "output_type": "execute_result"
    }
   ],
   "source": [
    "# caculating the date range\n",
    "data['Date'].max() - data['Date'].min()"
   ]
  },
  {
   "cell_type": "markdown",
   "id": "65bc21c4-0461-46a7-b533-d3caca47f363",
   "metadata": {},
   "source": [
    "## Cleaning the \"Job Title\"\n",
    "\n",
    "During the search for Data Analyst positions some other positions may appear in the dataset, such as \"Data Engineer\" and \"Data Scientist\". We will remove jobs that do not represent \"Data Analyst\"."
   ]
  },
  {
   "cell_type": "code",
   "execution_count": 19,
   "id": "aefd1e09-dd05-4157-9944-f987c45eeb69",
   "metadata": {},
   "outputs": [
    {
     "data": {
      "text/plain": [
       "Job Title\n",
       "Data Analyst                                               228\n",
       "Senior Data Analyst                                         41\n",
       "Sr. Data Analyst, Data Analytics                            24\n",
       "Business Data Analyst                                       23\n",
       "Business Intelligence Analyst                               16\n",
       "                                                          ... \n",
       "ITSM Data Analyst-Principals ONLY                            1\n",
       "Criminology Data Analyst (Electronic Monitoring)             1\n",
       "Data Management Analyst (BI Developer)                       1\n",
       "PowerBI System Data Analyst (Systems Analyst) || Remote      1\n",
       "DATA SPECIALIST, FORECASTING                                 1\n",
       "Name: count, Length: 491, dtype: int64"
      ]
     },
     "execution_count": 19,
     "metadata": {},
     "output_type": "execute_result"
    }
   ],
   "source": [
    "data['Job Title'].value_counts()"
   ]
  },
  {
   "cell_type": "code",
   "execution_count": 20,
   "id": "ca2ffe85-9525-48e0-815d-c646787dd566",
   "metadata": {},
   "outputs": [],
   "source": [
    "# keywords list of job titles that interest you\n",
    "list_jobs = ['data analyst']\n",
    "\n",
    "# selecting only job opportunities with titles containing the keywords\n",
    "bool_mask = data['Job Title'].str.contains('|'.join(list_jobs), case=False)\n",
    "data = data[bool_mask]\n",
    "data.reset_index(drop=True, inplace=True)"
   ]
  },
  {
   "cell_type": "code",
   "execution_count": 21,
   "id": "c1850480-0d8c-4e83-b52a-bc66ee1a19d4",
   "metadata": {},
   "outputs": [
    {
     "data": {
      "text/plain": [
       "Job Title\n",
       "Data Analyst                                        228\n",
       "Senior Data Analyst                                  41\n",
       "Sr. Data Analyst, Data Analytics                     24\n",
       "Business Data Analyst                                23\n",
       "Sr. Data Analyst                                     12\n",
       "                                                   ... \n",
       "Entry Level Business Analyst/Data Analyst             1\n",
       "Aircraft Data Analyst                                 1\n",
       "Sr./ Jr. Tableau Developer/Data Analyst _ Remote      1\n",
       "Data Analyst - Limited Duration                       1\n",
       "Market Data Analyst                                   1\n",
       "Name: count, Length: 332, dtype: int64"
      ]
     },
     "execution_count": 21,
     "metadata": {},
     "output_type": "execute_result"
    }
   ],
   "source": [
    "data['Job Title'].value_counts()"
   ]
  },
  {
   "cell_type": "markdown",
   "id": "00b7f7f4-18a5-4493-ac8b-f37f62da7178",
   "metadata": {},
   "source": [
    "## Cleaning the \"Location\" column"
   ]
  },
  {
   "cell_type": "code",
   "execution_count": 22,
   "id": "e18443b6-119b-4e08-97e5-cbc2428d9475",
   "metadata": {},
   "outputs": [
    {
     "data": {
      "text/plain": [
       "Location\n",
       "United States                         46\n",
       "New York, NY                          26\n",
       "Washington, DC                        17\n",
       "San Francisco, CA                     17\n",
       "Charlotte, NC                         15\n",
       "                                      ..\n",
       "Bingham Farms, MI                      1\n",
       "Greater Pittsburgh Region              1\n",
       "Denver, CO                             1\n",
       "Cuautitlán Izcalli, México, Mexico     1\n",
       "Lincoln, NE                            1\n",
       "Name: count, Length: 345, dtype: int64"
      ]
     },
     "execution_count": 22,
     "metadata": {},
     "output_type": "execute_result"
    }
   ],
   "source": [
    "data['Location'].value_counts()"
   ]
  },
  {
   "cell_type": "markdown",
   "id": "6864e0dc-a3b7-4091-aa5b-c0f0a6a02694",
   "metadata": {},
   "source": [
    "Our analysis will address opportunities by state in USA. We will exclude entries whose locale is Canada and México."
   ]
  },
  {
   "cell_type": "code",
   "execution_count": 23,
   "id": "1ddf4a4d-a97f-4159-82ec-8a5c8356f64c",
   "metadata": {},
   "outputs": [],
   "source": [
    "bool_mask_1 = data['Location'].str.contains('Canada') == False\n",
    "bool_mask_2 = data['Location'].str.contains('México') == False\n",
    "bool_mask_3 = data['Location'].str.contains('Mexico City') == False\n",
    "\n",
    "bool_mask = bool_mask_1 & bool_mask_2 & bool_mask_3\n",
    "data = data[bool_mask]"
   ]
  },
  {
   "cell_type": "code",
   "execution_count": 24,
   "id": "40b20da6-4e1e-4488-bd7a-02a57cf1e913",
   "metadata": {},
   "outputs": [
    {
     "data": {
      "text/plain": [
       "Location\n",
       "New York, NY         26\n",
       "Washington, DC       17\n",
       "San Francisco, CA    17\n",
       "Charlotte, NC        15\n",
       "Indianapolis, IN     14\n",
       "                     ..\n",
       "Time, IL              1\n",
       "Bonnie View, UT       1\n",
       "Commerce, CA          1\n",
       "Everett, WA           1\n",
       "Lincoln, NE           1\n",
       "Name: count, Length: 273, dtype: int64"
      ]
     },
     "execution_count": 24,
     "metadata": {},
     "output_type": "execute_result"
    }
   ],
   "source": [
    "# filtering entries in the Location column that have the state abbreviation at the end of the string\n",
    "match = '[A-Z]{2}'\n",
    "bool_mask = data['Location'].str.contains(match)\n",
    "data.loc[bool_mask, 'Location'].value_counts()"
   ]
  },
  {
   "cell_type": "code",
   "execution_count": 25,
   "id": "3445e781-f088-483a-a1f0-2fe57bf88011",
   "metadata": {},
   "outputs": [],
   "source": [
    "# Extracting only the acronyms at the end of each string\n",
    "data.loc[bool_mask, 'Location'] = data.copy().loc[bool_mask, 'Location'].apply(lambda x: x[-2:])"
   ]
  },
  {
   "cell_type": "code",
   "execution_count": 26,
   "id": "94f6ebbe-c6ed-4cac-8efa-d83f61315a21",
   "metadata": {},
   "outputs": [
    {
     "data": {
      "text/plain": [
       "Location\n",
       "CA                           101\n",
       "NY                            50\n",
       "TX                            47\n",
       "United States                 46\n",
       "VA                            45\n",
       "                            ... \n",
       "LA                             1\n",
       "Texas, United States           1\n",
       "Vermont, United States         1\n",
       "SC                             1\n",
       "Torreon Metropolitan Area      1\n",
       "Name: count, Length: 88, dtype: int64"
      ]
     },
     "execution_count": 26,
     "metadata": {},
     "output_type": "execute_result"
    }
   ],
   "source": [
    "# take a look in the unique values\n",
    "data['Location'].value_counts()"
   ]
  },
  {
   "cell_type": "code",
   "execution_count": 27,
   "id": "4b30666d-a866-47c5-9585-03abbd3fe266",
   "metadata": {},
   "outputs": [],
   "source": [
    "# Replacing the other entries in the Location column with acronyms\n",
    "cities_states = {\n",
    "    'United States':'Unknown',\n",
    "    'California, United States':'CA',\n",
    "    'New York, United States':'NY',\n",
    "    'Virginia, United States':'VA',\n",
    "    'Washington, United States':'WA',\n",
    "    'New Jersey, United States':'NJ',\n",
    "    'Rhode Island, United States':'RI',\n",
    "    'Vermont, United States':'VT',\n",
    "    'Pennsylvania, United States':'PA',\n",
    "    'South Carolina, United States':'SC',\n",
    "    'Maryland, United States':'MD',\n",
    "    'Denver Metropolitan Area':'CO',\n",
    "    'Alabama, United States':'AL',\n",
    "    'Oklahoma City Metropolitan Area':'OK',\n",
    "    'Oklahoma, United States':'OK',\n",
    "    'Iowa, United States':'IA',\n",
    "    'Illinois, United States':'IL',\n",
    "    'West Virginia, United States':'WV',\n",
    "    'Kansas, United States':'KS',\n",
    "    'Kentucky, United States':'KY',\n",
    "    'Nebraska, United States':'NE',\n",
    "    'Dallas-Fort Worth Metroplex':'TX',\n",
    "    'Texas, United States':'TX',\n",
    "    'Georgia, United States':'GA',\n",
    "    'San Diego Metropolitan Area':'CA',\n",
    "    'Connecticut, United States':'CT',\n",
    "    'Los Angeles Metropolitan Area':'CA',\n",
    "    'Greater Minneapolis-St. Paul Area':'MN',\n",
    "    'Michigan, United States':'MI',\n",
    "    'Greater Houston':'TX',\n",
    "    'District of Columbia, United States':'WA',\n",
    "    'Greater Chicago Area':'IL',\n",
    "    'Louisville Metropolitan Area':'KY',\n",
    "    'Greater Pittsburgh Region':'PA'\n",
    "}\n",
    "\n",
    "data['Location'] = data['Location'].replace(cities_states)"
   ]
  },
  {
   "cell_type": "code",
   "execution_count": 28,
   "id": "b121ac61-da7b-4c50-8235-1db950286564",
   "metadata": {},
   "outputs": [
    {
     "data": {
      "text/plain": [
       "Location\n",
       "CA                                       108\n",
       "NY                                        54\n",
       "TX                                        50\n",
       "VA                                        48\n",
       "Unknown                                   46\n",
       "FL                                        34\n",
       "PA                                        28\n",
       "GA                                        26\n",
       "NJ                                        24\n",
       "IL                                        24\n",
       "MA                                        24\n",
       "NC                                        21\n",
       "IN                                        20\n",
       "MD                                        19\n",
       "OH                                        18\n",
       "DC                                        17\n",
       "WA                                        15\n",
       "CO                                        14\n",
       "AZ                                        14\n",
       "MI                                         9\n",
       "MO                                         8\n",
       "MN                                         8\n",
       "OK                                         8\n",
       "UT                                         7\n",
       "TN                                         6\n",
       "ME                                         5\n",
       "Mexico                                     5\n",
       "WI                                         5\n",
       "CT                                         4\n",
       "KS                                         4\n",
       "OR                                         4\n",
       "VT                                         3\n",
       "HI                                         3\n",
       "KY                                         3\n",
       "NE                                         3\n",
       "AL                                         3\n",
       "SC                                         2\n",
       "RI                                         2\n",
       "AR                                         2\n",
       "Guadalajara, Mexico Metropolitan Area      2\n",
       "Ciudad Hidalgo, Michoacán, Mexico          2\n",
       "NH                                         2\n",
       "NV                                         1\n",
       "Mérida, Yucatán, Mexico                    1\n",
       "Buffalo-Niagara Falls Area                 1\n",
       "IA                                         1\n",
       "ND                                         1\n",
       "DE                                         1\n",
       "WV                                         1\n",
       "León A. Flores, Nuevo León, Mexico         1\n",
       "Santa Catarina, Nuevo León, Mexico         1\n",
       "Greater Vancouver Metropolitan Area        1\n",
       "LA                                         1\n",
       "SD                                         1\n",
       "Zapopan, Jalisco, Mexico                   1\n",
       "Ciudad Apodaca, Nuevo León, Mexico         1\n",
       "Aguascalientes, Mexico                     1\n",
       "Queretaro Metropolitan Area                1\n",
       "Torreon Metropolitan Area                  1\n",
       "Name: count, dtype: int64"
      ]
     },
     "execution_count": 28,
     "metadata": {},
     "output_type": "execute_result"
    }
   ],
   "source": [
    "data['Location'].value_counts().tail(60)"
   ]
  },
  {
   "cell_type": "code",
   "execution_count": 29,
   "id": "85de526a-4044-4970-a651-18654db3220a",
   "metadata": {},
   "outputs": [],
   "source": [
    "bool_mask_1 = data['Location'].str.contains('Mexico') == False\n",
    "bool_mask_2 = data['Location'].str.contains('Area') == False\n",
    "\n",
    "bool_mask = bool_mask_1 & bool_mask_2\n",
    "data = data[bool_mask]"
   ]
  },
  {
   "cell_type": "code",
   "execution_count": 30,
   "id": "7952ded4-99b6-4da1-b165-08c9feb07f8b",
   "metadata": {},
   "outputs": [],
   "source": [
    "# eliminating entries with unknown location\n",
    "data = data[data['Location'] != 'Unknown']\n",
    "data.reset_index(drop=True, inplace=True)"
   ]
  },
  {
   "cell_type": "markdown",
   "id": "c7a02169-086c-4d15-8698-b2cf8cc6bb54",
   "metadata": {},
   "source": [
    "Now the column is ok."
   ]
  },
  {
   "cell_type": "markdown",
   "id": "8448c3e5-8cc0-4c85-9f2d-1864b269c336",
   "metadata": {},
   "source": [
    "## Cleaning the \"Seniority\" column"
   ]
  },
  {
   "cell_type": "code",
   "execution_count": 31,
   "id": "1e520dc1-775f-48b3-8dd3-b226c27b77a3",
   "metadata": {},
   "outputs": [
    {
     "data": {
      "text/plain": [
       "Seniority\n",
       "Entry level         364\n",
       "Mid-Senior level    250\n",
       "Not Applicable       22\n",
       "Associate            19\n",
       "Internship            1\n",
       "Name: count, dtype: int64"
      ]
     },
     "execution_count": 31,
     "metadata": {},
     "output_type": "execute_result"
    }
   ],
   "source": [
    "data['Seniority'].value_counts()"
   ]
  },
  {
   "cell_type": "markdown",
   "id": "47309ff7-6320-4652-b948-22e49acf6475",
   "metadata": {},
   "source": [
    "The column is ok."
   ]
  },
  {
   "cell_type": "markdown",
   "id": "4d1e9fe4-a842-42c4-977c-00d1f395b82d",
   "metadata": {},
   "source": [
    "## Finding the technologies"
   ]
  },
  {
   "cell_type": "code",
   "execution_count": 32,
   "id": "e1e8a873-5999-4e16-a9cc-909d57ecae4e",
   "metadata": {},
   "outputs": [],
   "source": [
    "# tecnologias\n",
    "tec = [\n",
    "    'Azure',\n",
    "    '[\\s|\\,|\\.\\;]excel[\\s|\\,|\\.\\;]',\n",
    "    '[\\s|\\,|\\.\\;]git[\\s|\\,|\\.\\;]',\n",
    "    'Google[\\s]{0,1}Sheets',\n",
    "    'power[\\s]{0,1}bi',\n",
    "    'Python',\n",
    "    '[\\s|\\,|\\.\\;]r[\\s|\\,|\\.\\;]',\n",
    "    '[\\s|\\,|\\.\\;]sas[\\s|\\,|\\.\\;]',\n",
    "    'NoSQL',\n",
    "    '(?<!No)SQL',\n",
    "    'Tableau' \n",
    "]\n",
    "\n",
    "# adding new columns to the dataset informing if the technologies occur (1 = contains and 0 = does not contain)\n",
    "for name in tec:\n",
    "    data[name] = data['Description'].str.contains(name, case=False, regex=True).astype(int)\n",
    "    \n",
    "data.rename(columns={\n",
    "    'power[\\s]{0,1}bi':'Power Bi',\n",
    "    '[\\s|\\,|\\.\\;]git[\\s|\\,|\\.\\;]':'Git',\n",
    "    '[\\s|\\,|\\.\\;]excel[\\s|\\,|\\.\\;]':'Excel',\n",
    "    '[\\s|\\,|\\.\\;]sas[\\s|\\,|\\.\\;]':'Sas',\n",
    "    '[\\s|\\,|\\.\\;]r[\\s|\\,|\\.\\;]':'R',\n",
    "    'Google[\\s]{0,1}Sheets' : 'Google Sheets',\n",
    "    '(?<!No)SQL' : 'SQL'\n",
    "}, inplace=True)"
   ]
  },
  {
   "cell_type": "code",
   "execution_count": 33,
   "id": "dc622f1e-ed2a-4c99-82e2-89dc93d68f82",
   "metadata": {},
   "outputs": [],
   "source": [
    "# adding an index column to the dataset\n",
    "data['Index'] = range(len(data))\n",
    "data['Index'] = data['Index'].astype(str)\n",
    "\n",
    "# putting the index column in the first position\n",
    "cols = data.columns.tolist()\n",
    "cols = cols[-1:] + cols[:-1]\n",
    "data = data[cols]"
   ]
  },
  {
   "cell_type": "code",
   "execution_count": 34,
   "id": "cca282c3-d866-4382-8f61-4f5663fb3d2f",
   "metadata": {},
   "outputs": [
    {
     "data": {
      "text/html": [
       "<div>\n",
       "<style scoped>\n",
       "    .dataframe tbody tr th:only-of-type {\n",
       "        vertical-align: middle;\n",
       "    }\n",
       "\n",
       "    .dataframe tbody tr th {\n",
       "        vertical-align: top;\n",
       "    }\n",
       "\n",
       "    .dataframe thead th {\n",
       "        text-align: right;\n",
       "    }\n",
       "</style>\n",
       "<table border=\"1\" class=\"dataframe\">\n",
       "  <thead>\n",
       "    <tr style=\"text-align: right;\">\n",
       "      <th></th>\n",
       "      <th>Index</th>\n",
       "      <th>Date</th>\n",
       "      <th>Job Title</th>\n",
       "      <th>Location</th>\n",
       "      <th>Description</th>\n",
       "      <th>Seniority</th>\n",
       "      <th>Azure</th>\n",
       "      <th>Excel</th>\n",
       "      <th>Git</th>\n",
       "      <th>Google Sheets</th>\n",
       "      <th>Power Bi</th>\n",
       "      <th>Python</th>\n",
       "      <th>R</th>\n",
       "      <th>Sas</th>\n",
       "      <th>NoSQL</th>\n",
       "      <th>SQL</th>\n",
       "      <th>Tableau</th>\n",
       "    </tr>\n",
       "  </thead>\n",
       "  <tbody>\n",
       "    <tr>\n",
       "      <th>0</th>\n",
       "      <td>0</td>\n",
       "      <td>2023-07-13</td>\n",
       "      <td>Data Analyst</td>\n",
       "      <td>AZ</td>\n",
       "      <td>Job Responsibilities\\r\\n\\r\\n\\r\\n\\r\\n\\r\\nThe Da...</td>\n",
       "      <td>Entry level</td>\n",
       "      <td>0</td>\n",
       "      <td>1</td>\n",
       "      <td>0</td>\n",
       "      <td>1</td>\n",
       "      <td>0</td>\n",
       "      <td>1</td>\n",
       "      <td>0</td>\n",
       "      <td>0</td>\n",
       "      <td>0</td>\n",
       "      <td>1</td>\n",
       "      <td>1</td>\n",
       "    </tr>\n",
       "    <tr>\n",
       "      <th>1</th>\n",
       "      <td>1</td>\n",
       "      <td>2023-07-18</td>\n",
       "      <td>Data Analyst</td>\n",
       "      <td>NY</td>\n",
       "      <td>About January Digital\\r\\n\\r\\n\\r\\n\\r\\n\\r\\nJanua...</td>\n",
       "      <td>Entry level</td>\n",
       "      <td>0</td>\n",
       "      <td>0</td>\n",
       "      <td>0</td>\n",
       "      <td>0</td>\n",
       "      <td>0</td>\n",
       "      <td>1</td>\n",
       "      <td>0</td>\n",
       "      <td>0</td>\n",
       "      <td>0</td>\n",
       "      <td>1</td>\n",
       "      <td>1</td>\n",
       "    </tr>\n",
       "    <tr>\n",
       "      <th>2</th>\n",
       "      <td>2</td>\n",
       "      <td>2023-07-20</td>\n",
       "      <td>Data Analyst</td>\n",
       "      <td>FL</td>\n",
       "      <td>Role Purpose\\r\\n\\r\\nDesign, develop, and imple...</td>\n",
       "      <td>Associate</td>\n",
       "      <td>1</td>\n",
       "      <td>0</td>\n",
       "      <td>0</td>\n",
       "      <td>0</td>\n",
       "      <td>1</td>\n",
       "      <td>0</td>\n",
       "      <td>0</td>\n",
       "      <td>0</td>\n",
       "      <td>0</td>\n",
       "      <td>1</td>\n",
       "      <td>0</td>\n",
       "    </tr>\n",
       "    <tr>\n",
       "      <th>3</th>\n",
       "      <td>3</td>\n",
       "      <td>2023-07-18</td>\n",
       "      <td>Data Analyst</td>\n",
       "      <td>UT</td>\n",
       "      <td>Pura, based in Pleasant Grove, UT, has been re...</td>\n",
       "      <td>Mid-Senior level</td>\n",
       "      <td>0</td>\n",
       "      <td>0</td>\n",
       "      <td>0</td>\n",
       "      <td>0</td>\n",
       "      <td>0</td>\n",
       "      <td>0</td>\n",
       "      <td>0</td>\n",
       "      <td>0</td>\n",
       "      <td>0</td>\n",
       "      <td>1</td>\n",
       "      <td>1</td>\n",
       "    </tr>\n",
       "    <tr>\n",
       "      <th>4</th>\n",
       "      <td>4</td>\n",
       "      <td>2023-07-28</td>\n",
       "      <td>Data Analyst</td>\n",
       "      <td>NY</td>\n",
       "      <td>Tablet is how you book the world’s most exciti...</td>\n",
       "      <td>Entry level</td>\n",
       "      <td>0</td>\n",
       "      <td>1</td>\n",
       "      <td>0</td>\n",
       "      <td>0</td>\n",
       "      <td>0</td>\n",
       "      <td>1</td>\n",
       "      <td>1</td>\n",
       "      <td>0</td>\n",
       "      <td>0</td>\n",
       "      <td>1</td>\n",
       "      <td>1</td>\n",
       "    </tr>\n",
       "  </tbody>\n",
       "</table>\n",
       "</div>"
      ],
      "text/plain": [
       "  Index       Date     Job Title Location  \\\n",
       "0     0 2023-07-13  Data Analyst       AZ   \n",
       "1     1 2023-07-18  Data Analyst       NY   \n",
       "2     2 2023-07-20  Data Analyst       FL   \n",
       "3     3 2023-07-18  Data Analyst       UT   \n",
       "4     4 2023-07-28  Data Analyst       NY   \n",
       "\n",
       "                                         Description         Seniority  Azure  \\\n",
       "0  Job Responsibilities\\r\\n\\r\\n\\r\\n\\r\\n\\r\\nThe Da...       Entry level      0   \n",
       "1  About January Digital\\r\\n\\r\\n\\r\\n\\r\\n\\r\\nJanua...       Entry level      0   \n",
       "2  Role Purpose\\r\\n\\r\\nDesign, develop, and imple...         Associate      1   \n",
       "3  Pura, based in Pleasant Grove, UT, has been re...  Mid-Senior level      0   \n",
       "4  Tablet is how you book the world’s most exciti...       Entry level      0   \n",
       "\n",
       "   Excel  Git  Google Sheets  Power Bi  Python  R  Sas  NoSQL  SQL  Tableau  \n",
       "0      1    0              1         0       1  0    0      0    1        1  \n",
       "1      0    0              0         0       1  0    0      0    1        1  \n",
       "2      0    0              0         1       0  0    0      0    1        0  \n",
       "3      0    0              0         0       0  0    0      0    1        1  \n",
       "4      1    0              0         0       1  1    0      0    1        1  "
      ]
     },
     "execution_count": 34,
     "metadata": {},
     "output_type": "execute_result"
    }
   ],
   "source": [
    "data.head()"
   ]
  },
  {
   "cell_type": "markdown",
   "id": "65d0f199-629d-4390-8c3b-071ae98ddd39",
   "metadata": {},
   "source": [
    "## Output the data"
   ]
  },
  {
   "cell_type": "code",
   "execution_count": 35,
   "id": "f65f7ea5-2002-4f56-9a4d-44e3195a183c",
   "metadata": {},
   "outputs": [],
   "source": [
    "# output the data\n",
    "data.to_csv('job_data_cleaned.csv', index=False)"
   ]
  },
  {
   "cell_type": "code",
   "execution_count": 36,
   "id": "8ac4be7d-58bd-4e72-a25c-eafe35916201",
   "metadata": {},
   "outputs": [
    {
     "data": {
      "text/plain": [
       "Index(['Index', 'Date', 'Job Title', 'Location', 'Description', 'Seniority',\n",
       "       'Azure', 'Excel', 'Git', 'Google Sheets', 'Power Bi', 'Python', 'R',\n",
       "       'Sas', 'NoSQL', 'SQL', 'Tableau'],\n",
       "      dtype='object')"
      ]
     },
     "execution_count": 36,
     "metadata": {},
     "output_type": "execute_result"
    }
   ],
   "source": [
    "data.columns"
   ]
  },
  {
   "cell_type": "code",
   "execution_count": 37,
   "id": "768953ce-deeb-458e-8a6e-ba160f2f1ae1",
   "metadata": {},
   "outputs": [
    {
     "data": {
      "image/png": "[encoded data removed]",
      "text/plain": [
       "<Figure size 640x480 with 1 Axes>"
      ]
     },
     "metadata": {},
     "output_type": "display_data"
    }
   ],
   "source": [
    "# This cell is dedicated to plot a barchart\n",
    "import matplotlib.pyplot as plt\n",
    "import matplotlib as mp\n",
    "import numpy as np\n",
    "import seaborn as sns\n",
    "from colour import Color\n",
    "\n",
    "# dictionary of total appearances of terms Azure, Excel, Git, Google Sheets, Power Bi, Python, Linguagem R, \n",
    "# Sas, NoSQL, SQL, and Tableau\n",
    "tec = ['Azure', 'Excel', 'Git', 'Google Sheets', 'Power Bi', 'Python', 'R', 'Sas', 'NoSQL', 'SQL', 'Tableau']\n",
    "values = [round(data[item].sum()*100/ data.shape[0]) for item in tec]\n",
    "list_occurrences = dict(zip(tec, values))\n",
    "\n",
    "# reverse sort dictionary entries by values\n",
    "list_occurrences = dict(sorted(list_occurrences.items(), key=lambda item: item[1], reverse=False))\n",
    "\n",
    "# rewriting the ordered tec and list_aparicoes lists\n",
    "tec = list(list_occurrences.keys())\n",
    "values = list(list_occurrences.values())\n",
    "\n",
    "# style\n",
    "sns.set_style('white')\n",
    "\n",
    "\n",
    "# element positions on the y axis\n",
    "y_pos = np.arange(len(tec))\n",
    "\n",
    "# setting the margins\n",
    "plt.margins(x=0.15)\n",
    "# plt.subplots_adjust(top=1.55)\n",
    "\n",
    "# bar colors\n",
    "red = Color(\"gold\")\n",
    "colors = list(red.range_to(Color(\"seagreen\"), len(tec)))\n",
    "colors = [color.rgb for color in colors]\n",
    "\n",
    "\n",
    "# creating the horizontal bars\n",
    "plt.barh(y_pos, values, color=colors)\n",
    "\n",
    "# assigning the names in the y axis\n",
    "plt.yticks(y_pos, tec, size = 14)\n",
    "\n",
    "# remove xticks\n",
    "plt.tick_params(labelleft=True, labelbottom=False)\n",
    "\n",
    "# percent at the end of each bar\n",
    "for i in range(len(values)):\n",
    "    plt.text(x = values[i] , y = y_pos[i]-0.1, s=str(values[i])+'%', size = 14, color='black', fontweight='bold')\n",
    "\n",
    "plt.show()"
   ]
  }
 ],
 "metadata": {
  "kernelspec": {
   "display_name": "Python 3 (ipykernel)",
   "language": "python",
   "name": "python3"
  },
  "language_info": {
   "codemirror_mode": {
    "name": "ipython",
    "version": 3
   },
   "file_extension": ".py",
   "mimetype": "text/x-python",
   "name": "python",
   "nbconvert_exporter": "python",
   "pygments_lexer": "ipython3",
   "version": "3.11.9"
  }
 },
 "nbformat": 4,
 "nbformat_minor": 5
}
